{
  "nbformat": 4,
  "nbformat_minor": 0,
  "metadata": {
    "colab": {
      "provenance": []
    },
    "kernelspec": {
      "name": "python3",
      "display_name": "Python 3"
    },
    "language_info": {
      "name": "python"
    }
  },
  "cells": [
    {
      "cell_type": "markdown",
      "source": [
        "# 0. 사전 세팅"
      ],
      "metadata": {
        "id": "sWFrUrP_G2NB"
      }
    },
    {
      "cell_type": "code",
      "execution_count": 1,
      "metadata": {
        "colab": {
          "base_uri": "https://localhost:8080/"
        },
        "id": "oEeBTFZ3FyMA",
        "outputId": "c6bb6623-51b9-4dd9-df4d-75f891ffab39"
      },
      "outputs": [
        {
          "output_type": "stream",
          "name": "stdout",
          "text": [
            "Requirement already satisfied: wandb in /usr/local/lib/python3.10/dist-packages (0.18.7)\n",
            "Requirement already satisfied: click!=8.0.0,>=7.1 in /usr/local/lib/python3.10/dist-packages (from wandb) (8.1.7)\n",
            "Requirement already satisfied: docker-pycreds>=0.4.0 in /usr/local/lib/python3.10/dist-packages (from wandb) (0.4.0)\n",
            "Requirement already satisfied: gitpython!=3.1.29,>=1.0.0 in /usr/local/lib/python3.10/dist-packages (from wandb) (3.1.43)\n",
            "Requirement already satisfied: platformdirs in /usr/local/lib/python3.10/dist-packages (from wandb) (4.3.6)\n",
            "Requirement already satisfied: protobuf!=4.21.0,!=5.28.0,<6,>=3.19.0 in /usr/local/lib/python3.10/dist-packages (from wandb) (4.25.5)\n",
            "Requirement already satisfied: psutil>=5.0.0 in /usr/local/lib/python3.10/dist-packages (from wandb) (5.9.5)\n",
            "Requirement already satisfied: pyyaml in /usr/local/lib/python3.10/dist-packages (from wandb) (6.0.2)\n",
            "Requirement already satisfied: requests<3,>=2.0.0 in /usr/local/lib/python3.10/dist-packages (from wandb) (2.32.3)\n",
            "Requirement already satisfied: sentry-sdk>=2.0.0 in /usr/local/lib/python3.10/dist-packages (from wandb) (2.18.0)\n",
            "Requirement already satisfied: setproctitle in /usr/local/lib/python3.10/dist-packages (from wandb) (1.3.4)\n",
            "Requirement already satisfied: setuptools in /usr/local/lib/python3.10/dist-packages (from wandb) (75.1.0)\n",
            "Requirement already satisfied: typing-extensions<5,>=4.4 in /usr/local/lib/python3.10/dist-packages (from wandb) (4.12.2)\n",
            "Requirement already satisfied: six>=1.4.0 in /usr/local/lib/python3.10/dist-packages (from docker-pycreds>=0.4.0->wandb) (1.16.0)\n",
            "Requirement already satisfied: gitdb<5,>=4.0.1 in /usr/local/lib/python3.10/dist-packages (from gitpython!=3.1.29,>=1.0.0->wandb) (4.0.11)\n",
            "Requirement already satisfied: charset-normalizer<4,>=2 in /usr/local/lib/python3.10/dist-packages (from requests<3,>=2.0.0->wandb) (3.4.0)\n",
            "Requirement already satisfied: idna<4,>=2.5 in /usr/local/lib/python3.10/dist-packages (from requests<3,>=2.0.0->wandb) (3.10)\n",
            "Requirement already satisfied: urllib3<3,>=1.21.1 in /usr/local/lib/python3.10/dist-packages (from requests<3,>=2.0.0->wandb) (2.2.3)\n",
            "Requirement already satisfied: certifi>=2017.4.17 in /usr/local/lib/python3.10/dist-packages (from requests<3,>=2.0.0->wandb) (2024.8.30)\n",
            "Requirement already satisfied: smmap<6,>=3.0.1 in /usr/local/lib/python3.10/dist-packages (from gitdb<5,>=4.0.1->gitpython!=3.1.29,>=1.0.0->wandb) (5.0.1)\n"
          ]
        }
      ],
      "source": [
        "!pip install wandb"
      ]
    },
    {
      "cell_type": "code",
      "source": [
        "!pip install torchinfo"
      ],
      "metadata": {
        "colab": {
          "base_uri": "https://localhost:8080/"
        },
        "id": "6SzdaEYWvnlQ",
        "outputId": "a7067a79-9552-433d-d359-e7831cf8ccb6"
      },
      "execution_count": 46,
      "outputs": [
        {
          "output_type": "stream",
          "name": "stdout",
          "text": [
            "Collecting torchinfo\n",
            "  Downloading torchinfo-1.8.0-py3-none-any.whl.metadata (21 kB)\n",
            "Downloading torchinfo-1.8.0-py3-none-any.whl (23 kB)\n",
            "Installing collected packages: torchinfo\n",
            "Successfully installed torchinfo-1.8.0\n"
          ]
        }
      ]
    },
    {
      "cell_type": "code",
      "source": [
        "import wandb\n",
        "wandb.login()"
      ],
      "metadata": {
        "colab": {
          "base_uri": "https://localhost:8080/"
        },
        "id": "K-HUq-ooF-dO",
        "outputId": "e5c23d17-e21c-47c9-a7bd-c78421e76d37"
      },
      "execution_count": 47,
      "outputs": [
        {
          "output_type": "stream",
          "name": "stderr",
          "text": [
            "\u001b[34m\u001b[1mwandb\u001b[0m: \u001b[33mWARNING\u001b[0m Calling wandb.login() after wandb.init() has no effect.\n"
          ]
        },
        {
          "output_type": "execute_result",
          "data": {
            "text/plain": [
              "True"
            ]
          },
          "metadata": {},
          "execution_count": 47
        }
      ]
    },
    {
      "cell_type": "code",
      "source": [
        "# ------- Module 가져오기 ------- #\n",
        "import os  # OS 모듈은 파일 경로 관련 작업을 위한 기본 모듈\n",
        "from pathlib import Path  # 파일 경로를 객체 지향적으로 다룰 수 있는 모듈\n",
        "\n",
        "import torch  # 딥러닝 텐서 연산을 위한 파이토치 메인 모듈\n",
        "from torch import nn, optim  # 신경망 구축을 위한 신경망 모듈\n",
        "from torch.utils.data import DataLoader, random_split  # 데이터 로딩 및 데이터 분할 관련 모듈\n",
        "from torchvision import datasets, transforms\n",
        "from torchinfo import summary\n",
        "\n",
        "import matplotlib.pyplot as plt\n",
        "import random\n",
        "# ---------------------------- #"
      ],
      "metadata": {
        "id": "gR_XVmOkHlHb"
      },
      "execution_count": 48,
      "outputs": []
    },
    {
      "cell_type": "code",
      "source": [
        "# ------- 컴퓨터 기본 정보를 받아오는 함수 가져오기 ------- #\n",
        "# 다른 유틸리티 모듈에서 CPU 코어 수, OS 유형을 확인하는 함수를 가져옴\n",
        "import os\n",
        "import sys\n",
        "\n",
        "\n",
        "def is_linux():\n",
        "    if sys.platform.startswith(\"linux\"):\n",
        "        return True\n",
        "    else:\n",
        "        return False\n",
        "\n",
        "\n",
        "def is_windows():\n",
        "    if os.name == \"nt\":\n",
        "        return True\n",
        "    else:\n",
        "        return False\n",
        "\n",
        "def get_num_cpu_cores():\n",
        "    import multiprocessing\n",
        "    return multiprocessing.cpu_count()\n",
        "\n",
        "\n",
        "if __name__ == \"__main__\":\n",
        "    if is_linux():\n",
        "        print(\"Linux\")\n",
        "    elif is_windows():\n",
        "        print(\"Windows\")\n",
        "    else:\n",
        "        print(\"<unknown>\")\n"
      ],
      "metadata": {
        "colab": {
          "base_uri": "https://localhost:8080/"
        },
        "id": "aoUMFN0jH06W",
        "outputId": "0dd3cba4-218c-4a06-fef8-4fe2637120a5"
      },
      "execution_count": 49,
      "outputs": [
        {
          "output_type": "stream",
          "name": "stdout",
          "text": [
            "Linux\n"
          ]
        }
      ]
    },
    {
      "cell_type": "markdown",
      "source": [
        "# 1. Dataset 가져오기"
      ],
      "metadata": {
        "id": "ewVqeNdaH52_"
      }
    },
    {
      "cell_type": "markdown",
      "source": [
        "각 입력 특성을 균일하게 다루기 위해 mean과 std 값을 데이터셋의 이미지 픽셀값의 평균과 이의 표준편차를 사용."
      ],
      "metadata": {
        "id": "Q8Vx0GuPo4AY"
      }
    },
    {
      "cell_type": "code",
      "source": [
        "# ------- 최적의 Mean과 Std 값 계산 ------- #\n",
        "def get_mean_std(loader):\n",
        "    # 모든 데이터를 한 번에 로드하여 텐서로 변환\n",
        "    images, _ = next(iter(loader))\n",
        "\n",
        "    # 각 채널별로 평균과 표준편차 계산 (여기서는 채널이 하나뿐임)\n",
        "    mean = images.mean()\n",
        "    std = images.std()\n",
        "\n",
        "    return mean.item(), std.item()"
      ],
      "metadata": {
        "id": "IOzhHEP6MjKg"
      },
      "execution_count": 50,
      "outputs": []
    },
    {
      "cell_type": "code",
      "source": [
        "# ------- [Train용] Fashion MNIST datasets 가져오기 ------- #\n",
        "def get_fashion_mnist_data():\n",
        "    # 데이터를 다운로드하고 텐서 형태로 변환하여 Train set 로딩\n",
        "    f_mnist_train = datasets.FashionMNIST(\n",
        "        root='./data',\n",
        "        train=True,\n",
        "        download=True,\n",
        "        transform=transforms.ToTensor()\n",
        "    )\n",
        "\n",
        "    # Train 데이터를 Train과 Validation으로 분할\n",
        "    f_mnist_train, f_mnist_validation = random_split(f_mnist_train, [55_000, 5_000])\n",
        "\n",
        "    # Mean과 Std 계산을 위한 DataLoader\n",
        "    data_loader = DataLoader(dataset=f_mnist_train, batch_size=len(f_mnist_train), shuffle=False)\n",
        "    images, _ = next(iter(data_loader))\n",
        "    mean, std = images.mean().item(), images.std().item()\n",
        "    print(f\"Calculated mean: {mean}, std: {std}\")\n",
        "\n",
        "    # 정규화된 Transform 정의\n",
        "    f_mnist_transforms = transforms.Compose([\n",
        "        transforms.ToTensor(),\n",
        "        transforms.Normalize(mean=(mean,), std=(std,))\n",
        "    ])\n",
        "\n",
        "    # Transform 적용된 Train 및 Validation 데이터셋 정의\n",
        "    f_mnist_train = datasets.FashionMNIST(\n",
        "        root='./data',\n",
        "        train=True,\n",
        "        download=True,\n",
        "        transform=f_mnist_transforms\n",
        "    )\n",
        "    f_mnist_train, f_mnist_validation = random_split(f_mnist_train, [55_000, 5_000])\n",
        "\n",
        "    # Train 및 Validation DataLoader 정의\n",
        "    train_data_loader = DataLoader(dataset=f_mnist_train, batch_size=64, shuffle=True)\n",
        "    validation_data_loader = DataLoader(dataset=f_mnist_validation, batch_size=64)\n",
        "\n",
        "    return train_data_loader, validation_data_loader"
      ],
      "metadata": {
        "id": "F5wSQpQCIKxh"
      },
      "execution_count": 51,
      "outputs": []
    },
    {
      "cell_type": "code",
      "source": [
        "# ------- [Test용] Fashion MNIST 데이터셋 가져오기 ------- #\n",
        "def get_fashion_mnist_test_data(mean, std):\n",
        "    ### Dataset 가져오기 ###\n",
        "    f_mnist_test = datasets.FashionMNIST(\n",
        "        root='./data',\n",
        "        train=False,\n",
        "        download=True,\n",
        "        transform=transforms.Compose([\n",
        "            transforms.ToTensor(),\n",
        "            transforms.Normalize(mean=(mean,), std=(std,))\n",
        "        ])\n",
        "    )\n",
        "    # 전체 Test 데이터를 한번에 로드할 수 있는 데이터 로더 정의 (Batch size = 전체 데이터셋)\n",
        "    test_data_loader = DataLoader(\n",
        "        dataset=f_mnist_test,\n",
        "        batch_size=len(f_mnist_test)\n",
        "    )\n",
        "\n",
        "    return test_data_loader"
      ],
      "metadata": {
        "id": "fKvwJatqHZCy"
      },
      "execution_count": 52,
      "outputs": []
    },
    {
      "cell_type": "code",
      "source": [
        "import torch\n",
        "import torch.nn as nn\n",
        "import torch.optim as optim\n",
        "\n",
        "from torchvision import datasets, transforms\n",
        "from torch.utils.data import DataLoader, random_split\n",
        "\n",
        "# ------- [Test용] Fashion MNIST 데이터셋 가져오기 ------- #\n",
        "def get_fashion_mnist_test_data(mean, std):\n",
        "    ### Dataset 가져오기 ###\n",
        "    # Fashion MNIST 테스트 데이터를 다운로드 및 로드\n",
        "    f_mnist_test = datasets.FashionMNIST(\n",
        "        root='./data',\n",
        "        train=False,\n",
        "        download=True,\n",
        "        transform=transforms.Compose([\n",
        "            transforms.ToTensor(),\n",
        "            transforms.Normalize(mean=(mean,), std=(std,))\n",
        "        ])\n",
        "    )\n",
        "\n",
        "    # Test 데이터셋의 크기를 출력\n",
        "    print(\"Num Test Samples: \", len(f_mnist_test))  # Test 데이터 샘플 수 출력\n",
        "    print(\"Sample Shape: \", f_mnist_test[0][0].shape)  # torch.Size([1, 28, 28])\n",
        "\n",
        "    # 전체 Test 데이터를 한번에 로드할 수 있는 데이터 로더 정의 (Batch size = 전체 데이터셋)\n",
        "    test_data_loader = DataLoader(\n",
        "        dataset=f_mnist_test,\n",
        "        batch_size=len(f_mnist_test)\n",
        "    )\n",
        "\n",
        "    # Test 데이터 로더 반환\n",
        "    return test_data_loader\n",
        "\n"
      ],
      "metadata": {
        "id": "PAWJXfm9B_yZ"
      },
      "execution_count": 53,
      "outputs": []
    },
    {
      "cell_type": "markdown",
      "source": [
        "# 2. 모델 학습"
      ],
      "metadata": {
        "id": "q7-cR34bslCM"
      }
    },
    {
      "cell_type": "code",
      "source": [
        "# ------- 모델 학습을 위한 Trainer 클래스 ------- #\n",
        "class FashionMNISTClassificationTrainer:\n",
        "    def __init__(self, project_name, model, optimizer, train_data_loader, validation_data_loader, device, checkpoint_file_path):\n",
        "        self.project_name = project_name\n",
        "        self.model = model\n",
        "        self.optimizer = optimizer\n",
        "        self.train_data_loader = train_data_loader\n",
        "        self.validation_data_loader = validation_data_loader\n",
        "        self.device = device\n",
        "        self.checkpoint_file_path = checkpoint_file_path\n",
        "\n",
        "        self.loss_fn = nn.CrossEntropyLoss()\n",
        "\n",
        "    def train_loop(self, num_epochs):\n",
        "        for epoch in range(num_epochs):\n",
        "            # Training Phase\n",
        "            self.model.train()\n",
        "            total_train_loss = 0.0\n",
        "            num_correct_train = 0\n",
        "            num_samples_train = 0\n",
        "\n",
        "            for train_batch in self.train_data_loader:\n",
        "                inputs, targets = train_batch\n",
        "                inputs, targets = inputs.to(self.device), targets.to(self.device)\n",
        "\n",
        "                # Forward pass\n",
        "                outputs = self.model(inputs)\n",
        "                loss = self.loss_fn(outputs, targets)\n",
        "                total_train_loss += loss.item()\n",
        "\n",
        "                # Backward pass and optimization\n",
        "                self.optimizer.zero_grad()\n",
        "                loss.backward()\n",
        "                self.optimizer.step()\n",
        "\n",
        "                # Accuracy calculation\n",
        "                _, predicted = torch.max(outputs, 1)\n",
        "                num_correct_train += (predicted == targets).sum().item()\n",
        "                num_samples_train += targets.size(0)\n",
        "\n",
        "            # Calculate training metrics\n",
        "            avg_train_loss = total_train_loss / len(self.train_data_loader)\n",
        "            train_accuracy = num_correct_train / num_samples_train\n",
        "\n",
        "            # Validation Phase\n",
        "            self.model.eval()\n",
        "            total_val_loss = 0.0\n",
        "            num_correct_val = 0\n",
        "            num_samples_val = 0\n",
        "\n",
        "            with torch.no_grad():\n",
        "                for val_batch in self.validation_data_loader:\n",
        "                    inputs, targets = val_batch\n",
        "                    inputs, targets = inputs.to(self.device), targets.to(self.device)\n",
        "\n",
        "                    # Forward pass\n",
        "                    outputs = self.model(inputs)\n",
        "                    loss = self.loss_fn(outputs, targets)\n",
        "                    total_val_loss += loss.item()\n",
        "\n",
        "                    # Accuracy calculation\n",
        "                    _, predicted = torch.max(outputs, 1)\n",
        "                    num_correct_val += (predicted == targets).sum().item()\n",
        "                    num_samples_val += targets.size(0)\n",
        "\n",
        "            # Calculate validation metrics\n",
        "            avg_val_loss = total_val_loss / len(self.validation_data_loader)\n",
        "            val_accuracy = num_correct_val / num_samples_val\n",
        "\n",
        "            # Log metrics to WandB\n",
        "            wandb.log({\n",
        "                \"Training Loss\": avg_train_loss,\n",
        "                \"Validation Loss\": avg_val_loss,\n",
        "                \"Training Accuracy\": train_accuracy,\n",
        "                \"Validation Accuracy\": val_accuracy\n",
        "            })\n",
        "\n",
        "            # Print Epoch Results\n",
        "            print(f\"Epoch [{epoch+1}/{num_epochs}], \"\n",
        "                  f\"Train Loss: {avg_train_loss:.4f}, Train Accuracy: {train_accuracy:.4f}, \"\n",
        "                  f\"Val Loss: {avg_val_loss:.4f}, Val Accuracy: {val_accuracy:.4f}\")\n"
      ],
      "metadata": {
        "id": "uF613fgIsmY1"
      },
      "execution_count": 54,
      "outputs": []
    },
    {
      "cell_type": "code",
      "source": [
        "# ------- 샘플 테스트 데이터 분류 예측 확인 함수 ------- #\n",
        "def evaluate_sample_predictions(model, test_data_loader, device):\n",
        "    # 모델을 평가 모드로 설정\n",
        "    model.eval()\n",
        "\n",
        "    # Test 데이터셋에서 10개의 임의 샘플 선택\n",
        "    test_images, test_labels = next(iter(test_data_loader))\n",
        "    random_indices = random.sample(range(len(test_images)), 10)\n",
        "    selected_images = test_images[random_indices]\n",
        "    selected_labels = test_labels[random_indices]\n",
        "\n",
        "    # 모델을 사용하여 예측 수행\n",
        "    with torch.no_grad():\n",
        "        inputs = selected_images.to(device)\n",
        "        outputs = model(inputs)\n",
        "        _, predicted_labels = torch.max(outputs, 1)\n",
        "\n",
        "    # 이미지 출력 및 예측 결과 비교\n",
        "    class_names = ['T-shirt/top', 'Trouser', 'Pullover', 'Dress', 'Coat',\n",
        "                   'Sandal', 'Shirt', 'Sneaker', 'Bag', 'Ankle boot']\n",
        "\n",
        "    for i in range(10):\n",
        "        image = selected_images[i].squeeze(0).cpu()  # 이미지를 CPU로 이동 및 차원 축소\n",
        "        actual_label = selected_labels[i].item()\n",
        "        predicted_label = predicted_labels[i].item()\n",
        "\n",
        "        # 이미지 출력\n",
        "        plt.imshow(image, cmap='gray')\n",
        "        plt.title(f\"Actual: {class_names[actual_label]}, Predicted: {class_names[predicted_label]}\")\n",
        "        plt.axis('off')\n",
        "        plt.show()\n",
        "\n",
        "        # 실제 레이블과 예측 결과 비교\n",
        "        if actual_label == predicted_label:\n",
        "            print(f\"Sample {i+1}: Correctly Classified\")\n",
        "        else:\n",
        "            print(f\"Sample {i+1}: Misclassified\")\n",
        "            print(f\"  -> Misclassification Explanation: This image was misclassified as '{class_names[predicted_label]}', while it should be '{class_names[actual_label]}'.\")\n"
      ],
      "metadata": {
        "id": "tiE37N87CEPD"
      },
      "execution_count": 55,
      "outputs": []
    },
    {
      "cell_type": "markdown",
      "source": [
        "# 3. 실행"
      ],
      "metadata": {
        "id": "_bnFgt8jIDUh"
      }
    },
    {
      "cell_type": "code",
      "source": [
        "# ------- Main 함수 ------- #\n",
        "if __name__ == \"__main__\":\n",
        "    # WandB 설정 초기화\n",
        "    wandb.init(project=\"fashion_mnist_cnn\", config={\n",
        "        \"epochs\": 20,\n",
        "        \"batch_size\": 32,\n",
        "        \"learning_rate\": 0.001\n",
        "    })\n",
        "    config = wandb.config\n",
        "\n",
        "    # Train 및 Validation DataLoader 생성\n",
        "    train_data_loader, validation_data_loader = get_fashion_mnist_data()\n",
        "\n",
        "    # 모델 정의 (간단한 CNN)\n",
        "    class SimpleCNN(nn.Module):\n",
        "        def __init__(self):\n",
        "            super(SimpleCNN, self).__init__()\n",
        "            self.conv1 = nn.Conv2d(1, 32, kernel_size=3, stride=1, padding=1)\n",
        "            self.bn1 = nn.BatchNorm2d(32)\n",
        "            self.conv2 = nn.Conv2d(32, 64, kernel_size=3, stride=1, padding=1)\n",
        "            self.bn2 = nn.BatchNorm2d(64)\n",
        "            self.fc1 = nn.Linear(64 * 7 * 7, 128)\n",
        "            self.fc2 = nn.Linear(128, 10)\n",
        "            self.pool = nn.MaxPool2d(2, 2)\n",
        "            self.relu = nn.ReLU()\n",
        "            self.gelu = nn.GELU()\n",
        "            self.dropout = nn.Dropout(0.5)\n",
        "\n",
        "\n",
        "        def forward(self, x):\n",
        "            x = self.gelu(self.pool(self.bn1(self.conv1(x))))\n",
        "            x = self.gelu(self.pool(self.bn2(self.conv2(x))))\n",
        "            x = x.view(-1, 64 * 7 * 7)\n",
        "            x = self.gelu(self.fc1(x))\n",
        "            x = self.dropout(x)\n",
        "            x = self.fc2(x)\n",
        "            return x\n",
        "\n",
        "    # 모델, 디바이스, 옵티마이저 정의\n",
        "    device = torch.device(\"cuda:0\" if torch.cuda.is_available() else \"cpu\")\n",
        "    model = SimpleCNN().to(device)\n",
        "    optimizer = optim.Adam(model.parameters(), lr=config.learning_rate)\n",
        "    summary(model, input_size=(64, 1, 28, 28), device=\"cuda\" if torch.cuda.is_available() else \"cpu\")\n",
        "\n",
        "\n",
        "    # 트레이너 인스턴스 생성 및 학습 시작\n",
        "    trainer = FashionMNISTClassificationTrainer(\n",
        "        \"fashion_mnist_cnn\", model, optimizer, train_data_loader, validation_data_loader, device, \"./checkpoints\"\n",
        "    )\n",
        "    trainer.train_loop(num_epochs=config.epochs)\n",
        "\n",
        "    # Mean과 Std를 얻어서 Test 데이터 로더 생성\n",
        "    data_loader = DataLoader(dataset=datasets.FashionMNIST(root='./data', train=True, download=True, transform=transforms.ToTensor()), batch_size=len(datasets.FashionMNIST(root='./data', train=True, download=True, transform=transforms.ToTensor())))\n",
        "    mean, std = get_mean_std(data_loader)\n",
        "\n",
        "    # Test 데이터 로더 생성\n",
        "    test_data_loader = get_fashion_mnist_test_data(mean, std)\n",
        "\n",
        "    # 모델 평가 (Test 데이터셋에 대한 전체 성능)\n",
        "    model.eval()\n",
        "    num_correct_test = 0\n",
        "    num_samples_test = 0\n",
        "    total_test_loss = 0.0\n",
        "    loss_fn = nn.CrossEntropyLoss()\n",
        "\n",
        "    with torch.no_grad():\n",
        "        for test_batch in test_data_loader:\n",
        "            inputs, targets = test_batch\n",
        "            inputs, targets = inputs.to(device), targets.to(device)\n",
        "\n",
        "            # Forward pass\n",
        "            outputs = model(inputs)\n",
        "            loss = loss_fn(outputs, targets)\n",
        "            total_test_loss += loss.item()\n",
        "\n",
        "            # Accuracy calculation\n",
        "            _, predicted = torch.max(outputs, 1)\n",
        "            num_correct_test += (predicted == targets).sum().item()\n",
        "            num_samples_test += targets.size(0)\n",
        "\n",
        "    # Test metrics 계산\n",
        "    avg_test_loss = total_test_loss / len(test_data_loader)\n",
        "    test_accuracy = num_correct_test / num_samples_test\n",
        "\n",
        "    # Test 결과 출력\n",
        "    print(f\"Test Loss: {avg_test_loss:.4f}, Test Accuracy: {test_accuracy:.4f}\")\n",
        "\n",
        "    # WandB에 Test 결과 기록\n",
        "    wandb.log({\n",
        "        \"Test Loss\": avg_test_loss,\n",
        "        \"Test Accuracy\": test_accuracy\n",
        "    })\n",
        "\n",
        "    # 10개의 샘플에 대해 분류 예측 결과 확인\n",
        "    evaluate_sample_predictions(model, test_data_loader, device)"
      ],
      "metadata": {
        "colab": {
          "base_uri": "https://localhost:8080/",
          "height": 1000
        },
        "id": "wzR5DZfhIFRN",
        "outputId": "726a89a5-2918-400d-e744-67ba72c80e9b"
      },
      "execution_count": 56,
      "outputs": [
        {
          "output_type": "display_data",
          "data": {
            "text/plain": [
              "<IPython.core.display.HTML object>"
            ],
            "text/html": [
              "Finishing last run (ID:a4d127so) before initializing another..."
            ]
          },
          "metadata": {}
        },
        {
          "output_type": "display_data",
          "data": {
            "text/plain": [
              "<IPython.core.display.HTML object>"
            ],
            "text/html": [
              "\n",
              "    <style>\n",
              "        .wandb-row {\n",
              "            display: flex;\n",
              "            flex-direction: row;\n",
              "            flex-wrap: wrap;\n",
              "            justify-content: flex-start;\n",
              "            width: 100%;\n",
              "        }\n",
              "        .wandb-col {\n",
              "            display: flex;\n",
              "            flex-direction: column;\n",
              "            flex-basis: 100%;\n",
              "            flex: 1;\n",
              "            padding: 10px;\n",
              "        }\n",
              "    </style>\n",
              "<div class=\"wandb-row\"><div class=\"wandb-col\"><h3>Run history:</h3><br/><table class=\"wandb\"><tr><td>Training Accuracy</td><td>▁▆█</td></tr><tr><td>Training Loss</td><td>█▃▁</td></tr><tr><td>Validation Accuracy</td><td>▁▅█</td></tr><tr><td>Validation Loss</td><td>█▃▁</td></tr></table><br/></div><div class=\"wandb-col\"><h3>Run summary:</h3><br/><table class=\"wandb\"><tr><td>Training Accuracy</td><td>0.90147</td></tr><tr><td>Training Loss</td><td>0.2767</td></tr><tr><td>Validation Accuracy</td><td>0.91</td></tr><tr><td>Validation Loss</td><td>0.24245</td></tr></table><br/></div></div>"
            ]
          },
          "metadata": {}
        },
        {
          "output_type": "display_data",
          "data": {
            "text/plain": [
              "<IPython.core.display.HTML object>"
            ],
            "text/html": [
              " View run <strong style=\"color:#cdcd00\">dutiful-plasma-10</strong> at: <a href='https://wandb.ai/yuuun03-korea-university-of-technology-and-education/fashion_mnist_cnn/runs/a4d127so' target=\"_blank\">https://wandb.ai/yuuun03-korea-university-of-technology-and-education/fashion_mnist_cnn/runs/a4d127so</a><br/> View project at: <a href='https://wandb.ai/yuuun03-korea-university-of-technology-and-education/fashion_mnist_cnn' target=\"_blank\">https://wandb.ai/yuuun03-korea-university-of-technology-and-education/fashion_mnist_cnn</a><br/>Synced 5 W&B file(s), 0 media file(s), 0 artifact file(s) and 0 other file(s)"
            ]
          },
          "metadata": {}
        },
        {
          "output_type": "display_data",
          "data": {
            "text/plain": [
              "<IPython.core.display.HTML object>"
            ],
            "text/html": [
              "Find logs at: <code>./wandb/run-20241123_111128-a4d127so/logs</code>"
            ]
          },
          "metadata": {}
        },
        {
          "output_type": "display_data",
          "data": {
            "text/plain": [
              "<IPython.core.display.HTML object>"
            ],
            "text/html": [
              "Successfully finished last run (ID:a4d127so). Initializing new run:<br/>"
            ]
          },
          "metadata": {}
        },
        {
          "output_type": "display_data",
          "data": {
            "text/plain": [
              "<IPython.core.display.HTML object>"
            ],
            "text/html": [
              "Tracking run with wandb version 0.18.7"
            ]
          },
          "metadata": {}
        },
        {
          "output_type": "display_data",
          "data": {
            "text/plain": [
              "<IPython.core.display.HTML object>"
            ],
            "text/html": [
              "Run data is saved locally in <code>/content/wandb/run-20241123_111850-r5aloare</code>"
            ]
          },
          "metadata": {}
        },
        {
          "output_type": "display_data",
          "data": {
            "text/plain": [
              "<IPython.core.display.HTML object>"
            ],
            "text/html": [
              "Syncing run <strong><a href='https://wandb.ai/yuuun03-korea-university-of-technology-and-education/fashion_mnist_cnn/runs/r5aloare' target=\"_blank\">swift-night-11</a></strong> to <a href='https://wandb.ai/yuuun03-korea-university-of-technology-and-education/fashion_mnist_cnn' target=\"_blank\">Weights & Biases</a> (<a href='https://wandb.me/developer-guide' target=\"_blank\">docs</a>)<br/>"
            ]
          },
          "metadata": {}
        },
        {
          "output_type": "display_data",
          "data": {
            "text/plain": [
              "<IPython.core.display.HTML object>"
            ],
            "text/html": [
              " View project at <a href='https://wandb.ai/yuuun03-korea-university-of-technology-and-education/fashion_mnist_cnn' target=\"_blank\">https://wandb.ai/yuuun03-korea-university-of-technology-and-education/fashion_mnist_cnn</a>"
            ]
          },
          "metadata": {}
        },
        {
          "output_type": "display_data",
          "data": {
            "text/plain": [
              "<IPython.core.display.HTML object>"
            ],
            "text/html": [
              " View run at <a href='https://wandb.ai/yuuun03-korea-university-of-technology-and-education/fashion_mnist_cnn/runs/r5aloare' target=\"_blank\">https://wandb.ai/yuuun03-korea-university-of-technology-and-education/fashion_mnist_cnn/runs/r5aloare</a>"
            ]
          },
          "metadata": {}
        },
        {
          "output_type": "stream",
          "name": "stdout",
          "text": [
            "Calculated mean: 0.2861887216567993, std: 0.3530576229095459\n",
            "Epoch [1/20], Train Loss: 0.4832, Train Accuracy: 0.8254, Val Loss: 0.3046, Val Accuracy: 0.8866\n",
            "Epoch [2/20], Train Loss: 0.3296, Train Accuracy: 0.8820, Val Loss: 0.2971, Val Accuracy: 0.8902\n",
            "Epoch [3/20], Train Loss: 0.2842, Train Accuracy: 0.8978, Val Loss: 0.2430, Val Accuracy: 0.9074\n",
            "Epoch [4/20], Train Loss: 0.2520, Train Accuracy: 0.9080, Val Loss: 0.2333, Val Accuracy: 0.9104\n",
            "Epoch [5/20], Train Loss: 0.2306, Train Accuracy: 0.9157, Val Loss: 0.2214, Val Accuracy: 0.9202\n",
            "Epoch [6/20], Train Loss: 0.2112, Train Accuracy: 0.9234, Val Loss: 0.2215, Val Accuracy: 0.9156\n",
            "Epoch [7/20], Train Loss: 0.1942, Train Accuracy: 0.9296, Val Loss: 0.2108, Val Accuracy: 0.9216\n",
            "Epoch [8/20], Train Loss: 0.1770, Train Accuracy: 0.9348, Val Loss: 0.2109, Val Accuracy: 0.9250\n",
            "Epoch [9/20], Train Loss: 0.1680, Train Accuracy: 0.9381, Val Loss: 0.2092, Val Accuracy: 0.9264\n",
            "Epoch [10/20], Train Loss: 0.1524, Train Accuracy: 0.9440, Val Loss: 0.2079, Val Accuracy: 0.9268\n",
            "Epoch [11/20], Train Loss: 0.1413, Train Accuracy: 0.9464, Val Loss: 0.2204, Val Accuracy: 0.9278\n",
            "Epoch [12/20], Train Loss: 0.1276, Train Accuracy: 0.9527, Val Loss: 0.2234, Val Accuracy: 0.9274\n",
            "Epoch [13/20], Train Loss: 0.1208, Train Accuracy: 0.9535, Val Loss: 0.2186, Val Accuracy: 0.9278\n",
            "Epoch [14/20], Train Loss: 0.1097, Train Accuracy: 0.9590, Val Loss: 0.2302, Val Accuracy: 0.9290\n",
            "Epoch [15/20], Train Loss: 0.1057, Train Accuracy: 0.9608, Val Loss: 0.2354, Val Accuracy: 0.9290\n",
            "Epoch [16/20], Train Loss: 0.0962, Train Accuracy: 0.9637, Val Loss: 0.2419, Val Accuracy: 0.9288\n",
            "Epoch [17/20], Train Loss: 0.0912, Train Accuracy: 0.9647, Val Loss: 0.2429, Val Accuracy: 0.9282\n",
            "Epoch [18/20], Train Loss: 0.0872, Train Accuracy: 0.9666, Val Loss: 0.2526, Val Accuracy: 0.9314\n",
            "Epoch [19/20], Train Loss: 0.0837, Train Accuracy: 0.9681, Val Loss: 0.2688, Val Accuracy: 0.9306\n",
            "Epoch [20/20], Train Loss: 0.0761, Train Accuracy: 0.9712, Val Loss: 0.2640, Val Accuracy: 0.9286\n",
            "Num Test Samples:  10000\n",
            "Sample Shape:  torch.Size([1, 28, 28])\n",
            "Test Loss: 0.3077, Test Accuracy: 0.9245\n"
          ]
        },
        {
          "output_type": "display_data",
          "data": {
            "text/plain": [
              "<Figure size 640x480 with 1 Axes>"
            ],
            "image/png": "[encoded data removed]"
          },
          "metadata": {}
        },
        {
          "output_type": "stream",
          "name": "stdout",
          "text": [
            "Sample 1: Correctly Classified\n"
          ]
        },
        {
          "output_type": "display_data",
          "data": {
            "text/plain": [
              "<Figure size 640x480 with 1 Axes>"
            ],
            "image/png": "[encoded data removed]"
          },
          "metadata": {}
        },
        {
          "output_type": "stream",
          "name": "stdout",
          "text": [
            "Sample 2: Correctly Classified\n"
          ]
        },
        {
          "output_type": "display_data",
          "data": {
            "text/plain": [
              "<Figure size 640x480 with 1 Axes>"
            ],
            "image/png": "[encoded data removed]"
          },
          "metadata": {}
        },
        {
          "output_type": "stream",
          "name": "stdout",
          "text": [
            "Sample 3: Correctly Classified\n"
          ]
        },
        {
          "output_type": "display_data",
          "data": {
            "text/plain": [
              "<Figure size 640x480 with 1 Axes>"
            ],
            "image/png": "[encoded data removed]"
          },
          "metadata": {}
        },
        {
          "output_type": "stream",
          "name": "stdout",
          "text": [
            "Sample 4: Correctly Classified\n"
          ]
        },
        {
          "output_type": "display_data",
          "data": {
            "text/plain": [
              "<Figure size 640x480 with 1 Axes>"
            ],
            "image/png": "[encoded data removed]"
          },
          "metadata": {}
        },
        {
          "output_type": "stream",
          "name": "stdout",
          "text": [
            "Sample 5: Misclassified\n",
            "  -> Misclassification Explanation: This image was misclassified as 'Pullover', while it should be 'Coat'.\n"
          ]
        },
        {
          "output_type": "display_data",
          "data": {
            "text/plain": [
              "<Figure size 640x480 with 1 Axes>"
            ],
            "image/png": "[encoded data removed]"
          },
          "metadata": {}
        },
        {
          "output_type": "stream",
          "name": "stdout",
          "text": [
            "Sample 6: Correctly Classified\n"
          ]
        },
        {
          "output_type": "display_data",
          "data": {
            "text/plain": [
              "<Figure size 640x480 with 1 Axes>"
            ],
            "image/png": "[encoded data removed]"
          },
          "metadata": {}
        },
        {
          "output_type": "stream",
          "name": "stdout",
          "text": [
            "Sample 7: Correctly Classified\n"
          ]
        },
        {
          "output_type": "display_data",
          "data": {
            "text/plain": [
              "<Figure size 640x480 with 1 Axes>"
            ],
            "image/png": "[encoded data removed]"
          },
          "metadata": {}
        },
        {
          "output_type": "stream",
          "name": "stdout",
          "text": [
            "Sample 8: Correctly Classified\n"
          ]
        },
        {
          "output_type": "display_data",
          "data": {
            "text/plain": [
              "<Figure size 640x480 with 1 Axes>"
            ],
            "image/png": "[encoded data removed]"
          },
          "metadata": {}
        },
        {
          "output_type": "stream",
          "name": "stdout",
          "text": [
            "Sample 9: Correctly Classified\n"
          ]
        },
        {
          "output_type": "display_data",
          "data": {
            "text/plain": [
              "<Figure size 640x480 with 1 Axes>"
            ],
            "image/png": "[encoded data removed]"
          },
          "metadata": {}
        },
        {
          "output_type": "stream",
          "name": "stdout",
          "text": [
            "Sample 10: Correctly Classified\n"
          ]
        }
      ]
    },
    {
      "cell_type": "markdown",
      "source": [
        "## Hyperparaeter\n",
        "현재 코드에서의 Hyper parameter들은 다음과 같다.  \n",
        "lr = 0.001(기본 값)  \n",
        "epoch = 20 (10->20)  \n",
        "batch size = 32 (64->32)  \n",
        "  \n",
        "\n",
        "### lr을 기본 값으로 설정한 이유\n",
        "lr을 0.0005와 0.01일 때 둘 다 실험해보았다.   \n",
        "lr이 클 경우 처음부터 Train Loss가 크고 Train Accuracy가 낮음을 확인하였다. 이후 반복 학습을 통해(여러 에폭 순회를 통해) Loss가 줄어들고 Accuracy가 증가하는 속도는 나쁘지 않음을 확인하였으나, 처음부터 큰 오류율을 가지고 있었기에 빠르게 오류를 줄인다하더라도 오류율이 드라마틱하게 낮아지지도, 그렇게 만들 수 있을 정도로 엄청나게 빠른 속도가 아니었다. 결과적으로 0.001일 때보다 성능이 좋지 못하였다.  \n",
        "lr이 작을 경우 초반의 Train Loss와 Accuracy는 0.001과 비슷하거나 조금 더 적은 수준이었다. 그러나 학습률이 적기에 빠른 개선이 어려워 같은 에폭일 때 결과적으로 더 높은 오류율을 보였다.  \n",
        "그러므로 기본 값으로 제시된 0.001이 가장 적합하다고 생각하여 이를 사용하였다.  \n",
        "  \n",
        "### epoch을 증가시킨 이유\n",
        "기본 값인 10회로 학습했을때, 매 회마다 이전 회차보다 Loss가 감소하고 Accuracy가 증가하는 것이 눈에 띄게 느껴졌으므로 epoch 수를 증가시켰다.\n",
        "\n",
        "### batch size를 축소한 이유\n",
        "배치 사이즈를 줄이니 이전보다 오류율이 더 적은 것을 확인할 수 있었다. 작은 배치 사이즈를 이용하면 overfitting을 방지할 수 있어 일반화 성능을 높일 수 있다."
      ],
      "metadata": {
        "id": "8KkgWzknueVH"
      }
    },
    {
      "cell_type": "markdown",
      "source": [
        "### Coat를 Pullover로 착각한 이유\n",
        "코트와 풀오버는 굉장히 비슷하게 생겼다. 이로 인해 더 상세히 학습해야하는 면이 있다. 현재 드롭 아웃을 0.5로 사용하고 있는데, 이 때문에 많은 뉴런이 비활성화 되어 정보 손실이 이루어질 수 있기에 코트와 풀오버를 구분하지 못했나 싶다. 드롭아웃 비율을 줄이면 아마 괜찮을 것이다. 또한 은닉층을 지금 2개만 사용하고 있는데 더 복잡한 구조로 가면 좀 더 세세하게 학습할 수 있을 것이다."
      ],
      "metadata": {
        "id": "taZE6CK7ASXa"
      }
    },
    {
      "cell_type": "markdown",
      "source": [
        "# 숙제 후기\n",
        "MNIST 데이터셋을 이용한 분류는 많이 해보았는데 **Fashion MNIST**를 사용한 분류는 처음이라서 신선했다. 정확도를 93% 이상으로 높이고 싶었는데 아무리 하이퍼 파라미터를 바꿔봐도 92.4%를 넘지 못했었다. 기존에 있는 많은 하이퍼 파라미터 최적화 기법을 이용해 자동으로 하이퍼 파라미터를 튜닝해주는 코드를 작성하여 넣었으면 좋았겠다 싶었다."
      ],
      "metadata": {
        "id": "3FtV0A4UA6uO"
      }
    }
  ]
}