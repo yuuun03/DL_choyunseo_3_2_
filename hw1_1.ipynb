{
  "cells": [
    {
      "metadata": {
        "id": "182519e1eef7e892"
      },
      "cell_type": "markdown",
      "source": [
        "# a_tensor_initialization.ipynb"
      ],
      "id": "182519e1eef7e892"
    },
    {
      "metadata": {
        "collapsed": true,
        "ExecuteTime": {
          "end_time": "2024-09-24T11:29:38.608689Z",
          "start_time": "2024-09-24T11:29:34.944920Z"
        },
        "id": "initial_id",
        "outputId": "f86ca414-a830-4e03-9baf-b8424caca9b3"
      },
      "cell_type": "code",
      "source": [
        "import torch\n",
        "'''\n",
        "torch.Tensor 클래스와 기본 속성 확인\n",
        "'''\n",
        "# torch.Tensor class\n",
        "# 1, 2, 3 총 3개의 요소를 가진 1차원 tensor 생성\n",
        "# device는 cpu로 명시적 지정.\n",
        "t1 = torch.Tensor([1, 2, 3], device='cpu')\n",
        "# print(t1) # 내용물 확인\n",
        "print(t1.dtype)   # >>> torch.float32\n",
        "print(t1.device)  # >>> cpu, 위에서 cpu를 명시적으로 지정해줬으므로\n",
        "print(t1.requires_grad)  # >>> False, 자동 미분. 즉 그래디언트를 계산하는지 여부임.\n",
        "print(t1.size())  # torch.Size([3]), 크기\n",
        "print(t1.shape)   # torch.Size([3]), 모양"
      ],
      "id": "initial_id",
      "outputs": [
        {
          "name": "stdout",
          "output_type": "stream",
          "text": [
            "torch.float32\n",
            "cpu\n",
            "False\n",
            "torch.Size([3])\n",
            "torch.Size([3])\n"
          ]
        }
      ],
      "execution_count": null
    },
    {
      "metadata": {
        "ExecuteTime": {
          "end_time": "2024-09-24T11:29:41.889163Z",
          "start_time": "2024-09-24T11:29:41.879153Z"
        },
        "id": "a3b6e1a3185caca4",
        "outputId": "e99c4a8b-648b-41b1-da46-a6132b6c458a"
      },
      "cell_type": "code",
      "source": [
        "'''\n",
        "GPU가 사용가능하다면 GPU로 tensor를 이동하는 코드\n",
        "'''\n",
        "# if you have gpu device\n",
        "# t1_cuda = t1.to(torch.device('cuda')) # tensor를 GPU로 이동\n",
        "# or you can use shorthand\n",
        "# t1_cuda = t1.cuda()\n",
        "t1_cpu = t1.cpu() # tensor를 CPU로 이동\n",
        "\n",
        "print(\"#\" * 50, 1)"
      ],
      "id": "a3b6e1a3185caca4",
      "outputs": [
        {
          "name": "stdout",
          "output_type": "stream",
          "text": [
            "################################################## 1\n"
          ]
        }
      ],
      "execution_count": null
    },
    {
      "metadata": {
        "ExecuteTime": {
          "end_time": "2024-09-24T11:29:42.842895Z",
          "start_time": "2024-09-24T11:29:42.830756Z"
        },
        "id": "f615347a8dde646",
        "outputId": "682c8ada-74d9-4b2f-d4c3-db7f5497fea6"
      },
      "cell_type": "code",
      "source": [
        "'''\n",
        "이전 앞에 두 셀과 동일한 내용의 코드\n",
        "'''\n",
        "# torch.tensor function\n",
        "t2 = torch.tensor([1, 2, 3], device='cpu')\n",
        "print(t2.dtype)  # >>> torch.int64\n",
        "print(t2.device)  # >>> cpu\n",
        "print(t2.requires_grad)  # >>> False\n",
        "print(t2.size())  # torch.Size([3])\n",
        "print(t2.shape)  # torch.Size([3])\n",
        "\n",
        "# if you have gpu device\n",
        "# t2_cuda = t2.to(torch.device('cuda'))\n",
        "# or you can use shorthand\n",
        "# t2_cuda = t2.cuda()\n",
        "t2_cpu = t2.cpu()\n",
        "\n",
        "print(\"#\" * 50, 2)"
      ],
      "id": "f615347a8dde646",
      "outputs": [
        {
          "name": "stdout",
          "output_type": "stream",
          "text": [
            "torch.int64\n",
            "cpu\n",
            "False\n",
            "torch.Size([3])\n",
            "torch.Size([3])\n",
            "################################################## 2\n"
          ]
        }
      ],
      "execution_count": null
    },
    {
      "metadata": {
        "ExecuteTime": {
          "end_time": "2024-09-24T11:29:43.640206Z",
          "start_time": "2024-09-24T11:29:43.616157Z"
        },
        "id": "8cedbeead6838aa1",
        "outputId": "cc6bdfda-8a45-464e-a17a-00fa047cdfba"
      },
      "cell_type": "code",
      "source": [
        "'''\n",
        "Scalar tensor\n",
        "'''\n",
        "a1 = torch.tensor(1)\t\t\t     # shape: torch.Size([]), ndims(=rank): 0\n",
        "print(a1) # 출력 : tensor(1) > 정수 1을 의미\n",
        "print(a1.shape, a1.ndim) # 스칼라 값이므로 차원이 없음.\n",
        "\n",
        "'''\n",
        "1 Dimension tensors\n",
        "'''\n",
        "a2 = torch.tensor([1])\t\t  \t     # shape: torch.Size([1]), ndims(=rank): 1\n",
        "print(a2.shape, a2.ndim) # 모양 1, 차원 1\n",
        "\n",
        "a3 = torch.tensor([1, 2, 3, 4, 5])   # shape: torch.Size([5]), ndims(=rank): 1\n",
        "print(a3.shape, a3.ndim) # 모양 5, 차원 1\n",
        "\n",
        "'''\n",
        "2 Dimension tensors\n",
        "'''\n",
        "a4 = torch.tensor([[1], [2], [3], [4], [5]])   # shape: torch.Size([5, 1]), ndims(=rank): 2\n",
        "print(a4.shape, a4.ndim) # 모양(5,1), 차원 2\n",
        "\n",
        "a5 = torch.tensor([                 # shape: torch.Size([3, 2]), ndims(=rank): 2\n",
        "    [1, 2],\n",
        "    [3, 4],\n",
        "    [5, 6]\n",
        "])\n",
        "print(a5.shape, a5.ndim) # 모양(3,2), 차원 2\n",
        "\n",
        "'''\n",
        "3 Dimension tensor\n",
        "'''\n",
        "a6 = torch.tensor([                 # shape: torch.Size([3, 2, 1]), ndims(=rank): 3\n",
        "    [[1], [2]],\n",
        "    [[3], [4]],\n",
        "    [[5], [6]]\n",
        "])\n",
        "print(a6.shape, a6.ndim) # 모양(3,2,1) 차원 : 3\n",
        "\n",
        "'''\n",
        "4 Dimension tensors\n",
        "'''\n",
        "a7 = torch.tensor([                 # shape: torch.Size([3, 1, 2, 1]), ndims(=rank): 4\n",
        "    [[[1], [2]]],\n",
        "    [[[3], [4]]],\n",
        "    [[[5], [6]]]\n",
        "])\n",
        "print(a7.shape, a7.ndim) # 모양(3,1,2,1) 차원 : 4\n",
        "\n",
        "a8 = torch.tensor([                 # shape: torch.Size([3, 1, 2, 3]), ndims(=rank): 4\n",
        "    [[[1, 2, 3], [2, 3, 4]]],\n",
        "    [[[3, 1, 1], [4, 4, 5]]],\n",
        "    [[[5, 6, 2], [6, 3, 1]]]\n",
        "])\n",
        "print(a8.shape, a8.ndim) # 모양(3, 1, 2, 3) 차원 : 4\n",
        "\n",
        "'''\n",
        "5 Dimension tensors\n",
        "'''\n",
        "a9 = torch.tensor([                 # shape: torch.Size([3, 1, 2, 3, 1]), ndims(=rank): 5\n",
        "    [[[[1], [2], [3]], [[2], [3], [4]]]],\n",
        "    [[[[3], [1], [1]], [[4], [4], [5]]]],\n",
        "    [[[[5], [6], [2]], [[6], [3], [1]]]]\n",
        "])\n",
        "print(a9.shape, a9.ndim) # 모양(3,1,2,3,1) 차원 : 5"
      ],
      "id": "8cedbeead6838aa1",
      "outputs": [
        {
          "name": "stdout",
          "output_type": "stream",
          "text": [
            "tensor(1)\n",
            "torch.Size([]) 0\n",
            "torch.Size([1]) 1\n",
            "torch.Size([5]) 1\n",
            "torch.Size([5, 1]) 2\n",
            "torch.Size([3, 2]) 2\n",
            "torch.Size([3, 2, 1]) 3\n",
            "torch.Size([3, 1, 2, 1]) 4\n",
            "torch.Size([3, 1, 2, 3]) 4\n",
            "torch.Size([3, 1, 2, 3, 1]) 5\n"
          ]
        }
      ],
      "execution_count": null
    },
    {
      "metadata": {
        "ExecuteTime": {
          "end_time": "2024-09-24T11:29:44.686551Z",
          "start_time": "2024-09-24T11:29:44.381452Z"
        },
        "id": "47774d45ef05a2f8",
        "outputId": "19f8b651-62a1-42b9-8e84-a90fe9bc37dc"
      },
      "cell_type": "code",
      "source": [
        "''' 2차원 텐서 '''\n",
        "a10 = torch.tensor([                 # shape: torch.Size([4, 5]), ndims(=rank): 2\n",
        "    [1, 2, 3, 4, 5],\n",
        "    [1, 2, 3, 4, 5],\n",
        "    [1, 2, 3, 4, 5],\n",
        "    [1, 2, 3, 4, 5],\n",
        "])\n",
        "print(a10.shape, a10.ndim) # 모양 (4, 5) 차원 : 2\n",
        "\n",
        "''' 3차원 텐서 '''\n",
        "a10 = torch.tensor([                 # shape: torch.Size([4, 1, 5]), ndims(=rank): 3\n",
        "    [[1, 2, 3, 4, 5]],\n",
        "    [[1, 2, 3, 4, 5]],\n",
        "    [[1, 2, 3, 4, 5]],\n",
        "    [[1, 2, 3, 4, 5]],\n",
        "])\n",
        "print(a10.shape, a10.ndim) # 모양 (4,1,5) 차원 : 3\n",
        "\n",
        "''' 오류 발생 '''\n",
        "# 리스트의 길이가 일관되지 않기 때문.\n",
        "a11 = torch.tensor([                 # ValueError: expected sequence of length 3 at dim 3 (got 2)\n",
        "    [[[1, 2, 3], [4, 5]]],\n",
        "    [[[1, 2, 3], [4, 5]]],\n",
        "    [[[1, 2, 3], [4, 5]]],\n",
        "    [[[1, 2, 3], [4, 5]]],\n",
        "])"
      ],
      "id": "47774d45ef05a2f8",
      "outputs": [
        {
          "name": "stdout",
          "output_type": "stream",
          "text": [
            "torch.Size([4, 5]) 2\n",
            "torch.Size([4, 1, 5]) 3\n"
          ]
        },
        {
          "ename": "ValueError",
          "evalue": "expected sequence of length 3 at dim 3 (got 2)",
          "output_type": "error",
          "traceback": [
            "\u001b[1;31m---------------------------------------------------------------------------\u001b[0m",
            "\u001b[1;31mValueError\u001b[0m                                Traceback (most recent call last)",
            "Cell \u001b[1;32mIn[5], line 21\u001b[0m\n\u001b[0;32m     19\u001b[0m \u001b[38;5;124;03m''' 오류 발생 '''\u001b[39;00m\n\u001b[0;32m     20\u001b[0m \u001b[38;5;66;03m# 리스트의 길이가 일관되지 않기 때문.\u001b[39;00m\n\u001b[1;32m---> 21\u001b[0m a11 \u001b[38;5;241m=\u001b[39m \u001b[43mtorch\u001b[49m\u001b[38;5;241;43m.\u001b[39;49m\u001b[43mtensor\u001b[49m\u001b[43m(\u001b[49m\u001b[43m[\u001b[49m\u001b[43m                 \u001b[49m\u001b[38;5;66;43;03m# ValueError: expected sequence of length 3 at dim 3 (got 2)\u001b[39;49;00m\n\u001b[0;32m     22\u001b[0m \u001b[43m    \u001b[49m\u001b[43m[\u001b[49m\u001b[43m[\u001b[49m\u001b[43m[\u001b[49m\u001b[38;5;241;43m1\u001b[39;49m\u001b[43m,\u001b[49m\u001b[43m \u001b[49m\u001b[38;5;241;43m2\u001b[39;49m\u001b[43m,\u001b[49m\u001b[43m \u001b[49m\u001b[38;5;241;43m3\u001b[39;49m\u001b[43m]\u001b[49m\u001b[43m,\u001b[49m\u001b[43m \u001b[49m\u001b[43m[\u001b[49m\u001b[38;5;241;43m4\u001b[39;49m\u001b[43m,\u001b[49m\u001b[43m \u001b[49m\u001b[38;5;241;43m5\u001b[39;49m\u001b[43m]\u001b[49m\u001b[43m]\u001b[49m\u001b[43m]\u001b[49m\u001b[43m,\u001b[49m\n\u001b[0;32m     23\u001b[0m \u001b[43m    \u001b[49m\u001b[43m[\u001b[49m\u001b[43m[\u001b[49m\u001b[43m[\u001b[49m\u001b[38;5;241;43m1\u001b[39;49m\u001b[43m,\u001b[49m\u001b[43m \u001b[49m\u001b[38;5;241;43m2\u001b[39;49m\u001b[43m,\u001b[49m\u001b[43m \u001b[49m\u001b[38;5;241;43m3\u001b[39;49m\u001b[43m]\u001b[49m\u001b[43m,\u001b[49m\u001b[43m \u001b[49m\u001b[43m[\u001b[49m\u001b[38;5;241;43m4\u001b[39;49m\u001b[43m,\u001b[49m\u001b[43m \u001b[49m\u001b[38;5;241;43m5\u001b[39;49m\u001b[43m]\u001b[49m\u001b[43m]\u001b[49m\u001b[43m]\u001b[49m\u001b[43m,\u001b[49m\n\u001b[0;32m     24\u001b[0m \u001b[43m    \u001b[49m\u001b[43m[\u001b[49m\u001b[43m[\u001b[49m\u001b[43m[\u001b[49m\u001b[38;5;241;43m1\u001b[39;49m\u001b[43m,\u001b[49m\u001b[43m \u001b[49m\u001b[38;5;241;43m2\u001b[39;49m\u001b[43m,\u001b[49m\u001b[43m \u001b[49m\u001b[38;5;241;43m3\u001b[39;49m\u001b[43m]\u001b[49m\u001b[43m,\u001b[49m\u001b[43m \u001b[49m\u001b[43m[\u001b[49m\u001b[38;5;241;43m4\u001b[39;49m\u001b[43m,\u001b[49m\u001b[43m \u001b[49m\u001b[38;5;241;43m5\u001b[39;49m\u001b[43m]\u001b[49m\u001b[43m]\u001b[49m\u001b[43m]\u001b[49m\u001b[43m,\u001b[49m\n\u001b[0;32m     25\u001b[0m \u001b[43m    \u001b[49m\u001b[43m[\u001b[49m\u001b[43m[\u001b[49m\u001b[43m[\u001b[49m\u001b[38;5;241;43m1\u001b[39;49m\u001b[43m,\u001b[49m\u001b[43m \u001b[49m\u001b[38;5;241;43m2\u001b[39;49m\u001b[43m,\u001b[49m\u001b[43m \u001b[49m\u001b[38;5;241;43m3\u001b[39;49m\u001b[43m]\u001b[49m\u001b[43m,\u001b[49m\u001b[43m \u001b[49m\u001b[43m[\u001b[49m\u001b[38;5;241;43m4\u001b[39;49m\u001b[43m,\u001b[49m\u001b[43m \u001b[49m\u001b[38;5;241;43m5\u001b[39;49m\u001b[43m]\u001b[49m\u001b[43m]\u001b[49m\u001b[43m]\u001b[49m\u001b[43m,\u001b[49m\n\u001b[0;32m     26\u001b[0m \u001b[43m]\u001b[49m\u001b[43m)\u001b[49m\n",
            "\u001b[1;31mValueError\u001b[0m: expected sequence of length 3 at dim 3 (got 2)"
          ]
        }
      ],
      "execution_count": null
    },
    {
      "metadata": {
        "id": "54af1ee38f65fe0c"
      },
      "cell_type": "markdown",
      "source": [
        "# b_tensor_initialization_copy.ipynb"
      ],
      "id": "54af1ee38f65fe0c"
    },
    {
      "metadata": {
        "ExecuteTime": {
          "end_time": "2024-09-24T11:29:48.348158Z",
          "start_time": "2024-09-24T11:29:48.316026Z"
        },
        "id": "485bb8f107ffa804",
        "outputId": "b1701370-1778-4638-f1be-3bf0c4042cc9"
      },
      "cell_type": "code",
      "source": [
        "import torch\n",
        "import numpy as np\n",
        "\n",
        "''' 리스트로부터 tensor 생성'''\n",
        "# 생성된 텐서들은 list와 메모리를 공유하지 않음\n",
        "# pass by reference가 아닌 pass by value\n",
        "# 단, numpy를 as_tensor로 변환하는 경우 pass by reference\n",
        "\n",
        "l1 = [1, 2, 3]\n",
        "t1 = torch.Tensor(l1) # default type : torch.float32\n",
        "\n",
        "l2 = [1, 2, 3]\n",
        "t2 = torch.tensor(l2) # default type : 입력 값에 맞게 지정. 지금은 int\n",
        "\n",
        "#as_tensor은 입력이 리스트나 파이썬의 기본 구조일 경우 연동 안됨.\n",
        "l3 = [1, 2, 3]\n",
        "t3 = torch.as_tensor(l3) #주어진 입력을 tensor로 변환\n",
        "\n",
        "l1[0] = 100 # list의 값을 변경해도\n",
        "l2[0] = 100 # 텐서의 값은 바뀌지 않음\n",
        "l3[0] = 100\n",
        "\n",
        "print(t1)\n",
        "print(t2)\n",
        "print(t3)\n",
        "\n",
        "print(\"#\" * 100)\n"
      ],
      "id": "485bb8f107ffa804",
      "outputs": [
        {
          "name": "stdout",
          "output_type": "stream",
          "text": [
            "tensor([1., 2., 3.])\n",
            "tensor([1, 2, 3])\n",
            "tensor([1, 2, 3])\n",
            "####################################################################################################\n"
          ]
        }
      ],
      "execution_count": null
    },
    {
      "metadata": {
        "ExecuteTime": {
          "end_time": "2024-09-24T11:29:49.713151Z",
          "start_time": "2024-09-24T11:29:49.697314Z"
        },
        "id": "508e0dd0b4e8b4cb",
        "outputId": "20c997bf-5a48-429e-9d7c-3669257a3409"
      },
      "cell_type": "code",
      "source": [
        "# Tensor와 tensor은 np.array로 생성한 배열이여도 메모리 공유 X\n",
        "# 기타 사항 상기 코드와 동일\n",
        "l4 = np.array([1, 2, 3])\n",
        "t4 = torch.Tensor(l4)\n",
        "\n",
        "l5 = np.array([1, 2, 3])\n",
        "t5 = torch.tensor(l5)\n",
        "\n",
        "# as_tensor은 가능한 경우(numpy 배열) 입력 데이터와 메모리를 공유하려 함.\n",
        "# numpy 배열과는 같은 메모리를 참조한다는 뜻 (ndarray 변경시 텐서도 변경됨)\n",
        "l6 = np.array([1, 2, 3])\n",
        "t6 = torch.as_tensor(l6)\n",
        "\n",
        "l4[0] = 100\n",
        "l5[0] = 100\n",
        "l6[0] = 100\n",
        "\n",
        "print(t4)\n",
        "print(t5)\n",
        "print(t6)"
      ],
      "id": "508e0dd0b4e8b4cb",
      "outputs": [
        {
          "name": "stdout",
          "output_type": "stream",
          "text": [
            "tensor([1., 2., 3.])\n",
            "tensor([1, 2, 3], dtype=torch.int32)\n",
            "tensor([100,   2,   3], dtype=torch.int32)\n"
          ]
        }
      ],
      "execution_count": null
    },
    {
      "metadata": {
        "id": "c48e00d1316bdab8"
      },
      "cell_type": "markdown",
      "source": [
        "# c_tensor_initialization_constant_values.ipynb"
      ],
      "id": "c48e00d1316bdab8"
    },
    {
      "metadata": {
        "ExecuteTime": {
          "end_time": "2024-09-24T11:29:53.094524Z",
          "start_time": "2024-09-24T11:29:53.074845Z"
        },
        "id": "324acbd5a25472bf",
        "outputId": "306cd252-a34d-49dd-8741-10a627373c03"
      },
      "cell_type": "code",
      "source": [
        "import torch\n",
        "# 모든 요소가 1인 크기 (5,) 텐서 생성\n",
        "t1 = torch.ones(size = (5,))  # or torch.ones(5)\n",
        "# t1과 같은 크기를 갖고 모든 요소가 1인 텐서 생성\n",
        "t1_like = torch.ones_like(input = t1)\n",
        "print(t1, t1.shape)  # >>> tensor([1., 1., 1., 1., 1.])\n",
        "print(t1_like, t1_like.shape)  # >>> tensor([1., 1., 1., 1., 1.])"
      ],
      "id": "324acbd5a25472bf",
      "outputs": [
        {
          "name": "stdout",
          "output_type": "stream",
          "text": [
            "tensor([1., 1., 1., 1., 1.]) torch.Size([5])\n",
            "tensor([1., 1., 1., 1., 1.]) torch.Size([5])\n"
          ]
        }
      ],
      "execution_count": null
    },
    {
      "metadata": {
        "ExecuteTime": {
          "end_time": "2024-09-24T11:29:53.945828Z",
          "start_time": "2024-09-24T11:29:53.914346Z"
        },
        "id": "ad07424108d0bbd",
        "outputId": "19c7449e-6094-468e-a881-cf596782d72c"
      },
      "cell_type": "code",
      "source": [
        "# 모든 요소가 0인 크기 (6,) 텐서 생성.\n",
        "t2 = torch.zeros(size=(6,))  # or torch.zeros(6)\n",
        "# t2와 같은 크기를 갖고 모든 요소가 0인 텐서 생성\n",
        "t2_like = torch.zeros_like(input=t2)\n",
        "# t2와 같은 크기를 갖고 모든 요소가 1인 텐서 생성\n",
        "t2_like_ones = torch.ones_like(input=t2)\n",
        "print(t2, t2.shape)  # >>> tensor([0., 0., 0., 0., 0., 0.])\n",
        "print(t2_like, t2_like.shape)  # >>> tensor([0., 0., 0., 0., 0., 0.])\n",
        "print(t2_like_ones, t2_like_ones.shape) #정말 내용을 복사하는 게 아닌 크기만 따라함을 알 수 있음."
      ],
      "id": "ad07424108d0bbd",
      "outputs": [
        {
          "name": "stdout",
          "output_type": "stream",
          "text": [
            "tensor([0., 0., 0., 0., 0., 0.]) torch.Size([6])\n",
            "tensor([0., 0., 0., 0., 0., 0.]) torch.Size([6])\n",
            "tensor([1., 1., 1., 1., 1., 1.]) torch.Size([6])\n"
          ]
        }
      ],
      "execution_count": null
    },
    {
      "metadata": {
        "ExecuteTime": {
          "end_time": "2024-09-24T11:29:55.380317Z",
          "start_time": "2024-09-24T11:29:55.354567Z"
        },
        "id": "3b39531a365f45e6",
        "outputId": "f88c866b-0cff-4ee7-afe6-1344ef18c163"
      },
      "cell_type": "code",
      "source": [
        "# empty는 초기화 해주지 않음!!!!\n",
        "\n",
        "# 모든 요소가 임의의 값으로 되어있는 크기 (4,) 텐서 생성.\n",
        "t3 = torch.empty(size=(4,))  # or torch.zeros(4)\n",
        "# t3와 같은 크기와 데이터 타입을 갖고 모든 요소가 임의의 값으로 되어있는 텐서 생성\n",
        "t3_like = torch.empty_like(input=t3)\n",
        "print(t3)  # >>> tensor([n1., n2., n3., n4.])\n",
        "print(t3_like)  # >>> tensor([a1., a2., a3., a4.])"
      ],
      "id": "3b39531a365f45e6",
      "outputs": [
        {
          "name": "stdout",
          "output_type": "stream",
          "text": [
            "tensor([0.0000, 2.1250, 3.0000, 0.0000])\n",
            "tensor([0.0000, 1.8750, 3.0000, 0.0000])\n"
          ]
        }
      ],
      "execution_count": null
    },
    {
      "metadata": {
        "ExecuteTime": {
          "end_time": "2024-09-24T11:29:56.208411Z",
          "start_time": "2024-09-24T11:29:56.201202Z"
        },
        "id": "3662fe78289bfb2",
        "outputId": "59caf02f-1ffe-4a6c-96fe-d2a205e91505"
      },
      "cell_type": "code",
      "source": [
        "# 3by3 단위 행렬 생성\n",
        "t4 = torch.eye(n=3)\n",
        "print(t4)"
      ],
      "id": "3662fe78289bfb2",
      "outputs": [
        {
          "name": "stdout",
          "output_type": "stream",
          "text": [
            "tensor([[1., 0., 0.],\n",
            "        [0., 1., 0.],\n",
            "        [0., 0., 1.]])\n"
          ]
        }
      ],
      "execution_count": null
    },
    {
      "metadata": {
        "id": "632867022b9a6b79"
      },
      "cell_type": "markdown",
      "source": [
        "# d_tensor_initialization_random_values.ipynb"
      ],
      "id": "632867022b9a6b79"
    },
    {
      "metadata": {
        "ExecuteTime": {
          "end_time": "2024-09-24T11:29:58.393561Z",
          "start_time": "2024-09-24T11:29:58.354310Z"
        },
        "id": "47962dab53e6fd0f",
        "outputId": "8bbf72d5-7010-41c6-9b99-d1dc3742232e"
      },
      "cell_type": "code",
      "source": [
        "import torch\n",
        "# 10이상 20미만의 정수 난수들로 채워진 (1,2) 2차원 텐서 생성\n",
        "t1 = torch.randint(low=10, high=20, size=(1, 2))\n",
        "print(t1, t1.shape, t1.ndim)\n",
        "\n",
        "# 0과 1사이의 균등분포 실수 난수로 채워진 (1,3) 2차원 텐서 생성\n",
        "t2 = torch.rand(size=(1, 3))\n",
        "print(t2, t2.shape, t2.ndim)\n",
        "\n",
        "# 평균이 0, 표준편차가 1인 정규분포의 실수 난수로 채워진 (1,3) 2차원 텐서 생성\n",
        "t3 = torch.randn(size=(1, 3))\n",
        "print(t3, t3.shape, t3.ndim)\n",
        "\n",
        "# 평균 10.0, 표준 편차 1.0인 정규분포 실수 난수로 채워진 (3,2) 2차원 텐서 생성\n",
        "t4 = torch.normal(mean=10.0, std=1.0, size=(3, 2))\n",
        "print(t4, t4.shape, t4.ndim)\n",
        "\n",
        "# 0.0부터 5.0까지 구간을 동일한 간격의 3개의 요소로 채워진 1차원 텐서 생성\n",
        "t5 = torch.linspace(start=0.0, end=5.0, steps=3)\n",
        "print(t5, t5.shape, t5.ndim)\n",
        "\n",
        "# 일정 간격의 수열 생성.\n",
        "# 기본 값 start = 0, step_size = 1\n",
        "# 즉 0부터 5 미만까지 1간격의 1차원 텐서 생성\n",
        "t6 = torch.arange(5)\n",
        "print(t6, t6.shape, t6.ndim)\n",
        "\n",
        "print(\"#\" * 30)\n"
      ],
      "id": "47962dab53e6fd0f",
      "outputs": [
        {
          "name": "stdout",
          "output_type": "stream",
          "text": [
            "tensor([[13, 19]]) torch.Size([1, 2]) 2\n",
            "tensor([[0.4160, 0.4784, 0.1479]]) torch.Size([1, 3]) 2\n",
            "tensor([[-0.0201, -0.7571, -0.5000]]) torch.Size([1, 3]) 2\n",
            "tensor([[11.5358, 10.4427],\n",
            "        [10.6750, 10.7060],\n",
            "        [ 9.7849, 10.2289]]) torch.Size([3, 2]) 2\n",
            "tensor([0.0000, 2.5000, 5.0000]) torch.Size([3]) 1\n",
            "tensor([0, 1, 2, 3, 4]) torch.Size([5]) 1\n",
            "##############################\n"
          ]
        }
      ],
      "execution_count": null
    },
    {
      "metadata": {
        "ExecuteTime": {
          "end_time": "2024-09-24T11:29:59.493219Z",
          "start_time": "2024-09-24T11:29:59.447064Z"
        },
        "id": "12d7fddbec1a844d",
        "outputId": "6d7b677d-dfb3-47f1-e270-206de8a8a3c3"
      },
      "cell_type": "code",
      "source": [
        "torch.manual_seed(1729) # 난수 생성 시드 고정 -> 재현성 보장. 다른 환경에서도 손쉽게 같은 난수값 획득 가능\n",
        "\n",
        "random1 = torch.rand(2, 3) # 0과 1사이의 균등 분포에서 실수 난수 생성\n",
        "print(random1, random1.shape, random1.ndim)\n",
        "\n",
        "random2 = torch.rand(2, 3) # 같은 시드로 설정한 난수 생성기를 연속으로 호출하면 값이 바뀜.\n",
        "print(random2, random2.shape, random2.ndim)\n",
        "\n",
        "print()\n",
        "\n",
        "# 동일한 시드에 균등분포 적용하므로 위와 내용 동일\n",
        "torch.manual_seed(1729)\n",
        "random3 = torch.rand(2, 3)\n",
        "print(random3, random3.shape, random3.ndim)\n",
        "\n",
        "random4 = torch.rand(2, 3)\n",
        "print(random4, random4.shape, random4.ndim)"
      ],
      "id": "12d7fddbec1a844d",
      "outputs": [
        {
          "name": "stdout",
          "output_type": "stream",
          "text": [
            "tensor([[0.3126, 0.3791, 0.3087],\n",
            "        [0.0736, 0.4216, 0.0691]]) torch.Size([2, 3]) 2\n",
            "tensor([[0.2332, 0.4047, 0.2162],\n",
            "        [0.9927, 0.4128, 0.5938]]) torch.Size([2, 3]) 2\n",
            "\n",
            "tensor([[0.3126, 0.3791, 0.3087],\n",
            "        [0.0736, 0.4216, 0.0691]]) torch.Size([2, 3]) 2\n",
            "tensor([[0.2332, 0.4047, 0.2162],\n",
            "        [0.9927, 0.4128, 0.5938]]) torch.Size([2, 3]) 2\n"
          ]
        }
      ],
      "execution_count": null
    },
    {
      "metadata": {
        "id": "704ddee6fcda7587"
      },
      "cell_type": "markdown",
      "source": [
        "# e_tensor_type_conversion.ipynb"
      ],
      "id": "704ddee6fcda7587"
    },
    {
      "metadata": {
        "ExecuteTime": {
          "end_time": "2024-09-24T11:30:01.966324Z",
          "start_time": "2024-09-24T11:30:01.946335Z"
        },
        "id": "c7f5c0c3f8dbc3d4",
        "outputId": "d2c3f16d-b213-43b8-bbcd-43c2438a5ce4"
      },
      "cell_type": "code",
      "source": [
        "import torch\n",
        "# 모든 요소가 1인 (2,3) tensor\n",
        "a = torch.ones((2, 3))\n",
        "print(a.dtype) # torch.float32\n",
        "b = torch.ones((2, 3), dtype=torch.int16) # 타입 명시적 지정\n",
        "print(b) # torch.int16\n",
        "\n",
        "# 0과 20사이의 난수를 가지는 (2,3) tensor\n",
        "c = torch.rand((2, 3), dtype=torch.float64) * 20.\n",
        "print(c)\n",
        "c_int = c.to(torch.int32) # 추가 코드. 강제적 타입 변환\n",
        "print(c_int)\n",
        "\n",
        "d = b.to(torch.int32) # b tensor int32형으로 변경\n",
        "print(d)\n"
      ],
      "id": "c7f5c0c3f8dbc3d4",
      "outputs": [
        {
          "name": "stdout",
          "output_type": "stream",
          "text": [
            "torch.float32\n",
            "tensor([[1, 1, 1],\n",
            "        [1, 1, 1]], dtype=torch.int16)\n",
            "tensor([[18.0429,  7.2532, 19.6519],\n",
            "        [10.8626,  2.1505, 19.6913]], dtype=torch.float64)\n",
            "tensor([[18,  7, 19],\n",
            "        [10,  2, 19]], dtype=torch.int32)\n",
            "tensor([[1, 1, 1],\n",
            "        [1, 1, 1]], dtype=torch.int32)\n"
          ]
        }
      ],
      "execution_count": null
    },
    {
      "metadata": {
        "ExecuteTime": {
          "end_time": "2024-09-24T11:30:02.931509Z",
          "start_time": "2024-09-24T11:30:02.889546Z"
        },
        "id": "3ccc61247474de38",
        "outputId": "053eed7a-95f0-42a5-a548-a77f3bf81a69"
      },
      "cell_type": "code",
      "source": [
        "''' 데이터 타입 지정하여 생성 '''\n",
        "# double형의 1로만 채워진 (10,2) tensor\n",
        "double_d = torch.ones(10, 2, dtype=torch.double)\n",
        "# [1,2] list를 short형으로 변환한 tensor\n",
        "short_e = torch.tensor([[1, 2]], dtype=torch.short)\n",
        "print(double_d) # 출력은 float64다.\n",
        "print(short_e) # 출력은 int16이다.\n",
        "print()\n",
        "\n",
        "''' 메소드 체인으로 타입 변경 '''\n",
        "# double형의 0으로만 채워진 (10,2) tensor\n",
        "double_d = torch.zeros(10, 2).double()\n",
        "# short형의 1로만 채워진 (10,2) tensor\n",
        "short_e = torch.ones(10, 2).short()\n",
        "print(double_d) # 출력은 float64다.\n",
        "print(short_e) # 출력은 int16이다.\n",
        "print()\n",
        "\n",
        "''' 데이터 타입 변경 메소드 to()'''\n",
        "# double형의 0으로만 채워진 (10,2) tensor\n",
        "double_d = torch.zeros(10, 2).to(torch.double)\n",
        "# short형의 1로만 채워진 (10,2) tensor\n",
        "short_e = torch.ones(10, 2).to(dtype=torch.short)\n",
        "print(double_d) # 출력은 float64다.\n",
        "print(short_e) # 출력은 int16이다.\n",
        "print()\n",
        "\n",
        "''' 데이터 타입 변경 메소드 type() '''\n",
        "double_d = torch.zeros(10, 2).type(torch.double)\n",
        "short_e = torch.ones(10, 2). type(dtype=torch.short)\n",
        "print(double_d.dtype)\n",
        "print(short_e.dtype)\n",
        "print()\n",
        "\n",
        "''' 데이터 타입 변환 후 연산 '''\n",
        "# 크기가 5인 float64 난수 tensor 생성\n",
        "double_f = torch.rand(5, dtype=torch.double)\n",
        "print(double_f.dtype) #torch.float64\n",
        "short_g = double_f.to(torch.short) #short로 형변환\n",
        "print(short_g.dtype)  # torch.int16\n",
        "print((double_f * short_g).dtype) # 실수 * 정수면 실수로 타입이 캐스트됨."
      ],
      "id": "3ccc61247474de38",
      "outputs": [
        {
          "name": "stdout",
          "output_type": "stream",
          "text": [
            "tensor([[1., 1.],\n",
            "        [1., 1.],\n",
            "        [1., 1.],\n",
            "        [1., 1.],\n",
            "        [1., 1.],\n",
            "        [1., 1.],\n",
            "        [1., 1.],\n",
            "        [1., 1.],\n",
            "        [1., 1.],\n",
            "        [1., 1.]], dtype=torch.float64)\n",
            "tensor([[1, 2]], dtype=torch.int16)\n",
            "\n",
            "tensor([[0., 0.],\n",
            "        [0., 0.],\n",
            "        [0., 0.],\n",
            "        [0., 0.],\n",
            "        [0., 0.],\n",
            "        [0., 0.],\n",
            "        [0., 0.],\n",
            "        [0., 0.],\n",
            "        [0., 0.],\n",
            "        [0., 0.]], dtype=torch.float64)\n",
            "tensor([[1, 1],\n",
            "        [1, 1],\n",
            "        [1, 1],\n",
            "        [1, 1],\n",
            "        [1, 1],\n",
            "        [1, 1],\n",
            "        [1, 1],\n",
            "        [1, 1],\n",
            "        [1, 1],\n",
            "        [1, 1]], dtype=torch.int16)\n",
            "\n",
            "tensor([[0., 0.],\n",
            "        [0., 0.],\n",
            "        [0., 0.],\n",
            "        [0., 0.],\n",
            "        [0., 0.],\n",
            "        [0., 0.],\n",
            "        [0., 0.],\n",
            "        [0., 0.],\n",
            "        [0., 0.],\n",
            "        [0., 0.]], dtype=torch.float64)\n",
            "tensor([[1, 1],\n",
            "        [1, 1],\n",
            "        [1, 1],\n",
            "        [1, 1],\n",
            "        [1, 1],\n",
            "        [1, 1],\n",
            "        [1, 1],\n",
            "        [1, 1],\n",
            "        [1, 1],\n",
            "        [1, 1]], dtype=torch.int16)\n",
            "\n",
            "torch.float64\n",
            "torch.int16\n",
            "\n",
            "torch.float64\n",
            "torch.int16\n",
            "torch.float64\n"
          ]
        }
      ],
      "execution_count": null
    },
    {
      "metadata": {
        "id": "c586e41b9bed6ed2"
      },
      "cell_type": "markdown",
      "source": [
        "# f_tensor_operations.ipynb"
      ],
      "id": "c586e41b9bed6ed2"
    },
    {
      "metadata": {
        "ExecuteTime": {
          "end_time": "2024-09-24T11:30:05.595458Z",
          "start_time": "2024-09-24T11:30:05.571304Z"
        },
        "id": "1796c41412774693",
        "outputId": "cea10688-e41b-4a51-cde3-5df3db9eef47"
      },
      "cell_type": "code",
      "source": [
        "import torch\n",
        "# 연산용 기본 데이터 생성, 확인\n",
        "# 둘 다 1로 채워진 (2,3) tensor 생성\n",
        "t1 = torch.ones(size=(2, 3))\n",
        "t2 = torch.ones(size=(2, 3))\n",
        "print(t1)\n",
        "print(t2)"
      ],
      "id": "1796c41412774693",
      "outputs": [
        {
          "name": "stdout",
          "output_type": "stream",
          "text": [
            "tensor([[1., 1., 1.],\n",
            "        [1., 1., 1.]])\n",
            "tensor([[1., 1., 1.],\n",
            "        [1., 1., 1.]])\n"
          ]
        }
      ],
      "execution_count": null
    },
    {
      "metadata": {
        "ExecuteTime": {
          "end_time": "2024-09-24T11:30:06.342481Z",
          "start_time": "2024-09-24T11:30:06.322147Z"
        },
        "id": "40dca6603f154f37",
        "outputId": "a504f58e-1d23-4cd6-d9af-ed9b1c77320e"
      },
      "cell_type": "code",
      "source": [
        "''' 텐서의 덧셈 '''\n",
        "#둘 다 동일하게 덧셈 연산이 이뤄짐\n",
        "t3 = torch.add(t1, t2)\n",
        "t4 = t1 + t2\n",
        "print(t3)\n",
        "print(t4)\n",
        "\n",
        "print(\"#\" * 30)"
      ],
      "id": "40dca6603f154f37",
      "outputs": [
        {
          "name": "stdout",
          "output_type": "stream",
          "text": [
            "tensor([[2., 2., 2.],\n",
            "        [2., 2., 2.]])\n",
            "tensor([[2., 2., 2.],\n",
            "        [2., 2., 2.]])\n",
            "##############################\n"
          ]
        }
      ],
      "execution_count": null
    },
    {
      "metadata": {
        "ExecuteTime": {
          "end_time": "2024-09-24T11:30:07.304955Z",
          "start_time": "2024-09-24T11:30:07.290165Z"
        },
        "id": "ae4d661cb9183a91",
        "outputId": "f6af1287-b36e-447d-9ab5-4fc2b6cc19e3"
      },
      "cell_type": "code",
      "source": [
        "''' 텐서의 뺄셈 '''\n",
        "#둘 다 동일하게 뺄셈 연산이 이뤄짐\n",
        "t5 = torch.sub(t1, t2)\n",
        "t6 = t1 - t2\n",
        "print(t5)\n",
        "print(t6)\n",
        "\n",
        "print(\"#\" * 30)"
      ],
      "id": "ae4d661cb9183a91",
      "outputs": [
        {
          "name": "stdout",
          "output_type": "stream",
          "text": [
            "tensor([[0., 0., 0.],\n",
            "        [0., 0., 0.]])\n",
            "tensor([[0., 0., 0.],\n",
            "        [0., 0., 0.]])\n",
            "##############################\n"
          ]
        }
      ],
      "execution_count": null
    },
    {
      "metadata": {
        "ExecuteTime": {
          "end_time": "2024-09-24T11:30:08.054588Z",
          "start_time": "2024-09-24T11:30:08.041583Z"
        },
        "id": "63b916170e2df28b",
        "outputId": "fa2c6d9c-cc60-439e-c371-4d4b1b06ad0c"
      },
      "cell_type": "code",
      "source": [
        "''' 텐서의 곱셈 '''\n",
        "#둘 다 동일하게 곱셈 연산이 이뤄짐\n",
        "t7 = torch.mul(t1, t2)\n",
        "t8 = t1 * t2\n",
        "print(t7)\n",
        "print(t8)\n",
        "\n",
        "print(\"#\" * 30)"
      ],
      "id": "63b916170e2df28b",
      "outputs": [
        {
          "name": "stdout",
          "output_type": "stream",
          "text": [
            "tensor([[1., 1., 1.],\n",
            "        [1., 1., 1.]])\n",
            "tensor([[1., 1., 1.],\n",
            "        [1., 1., 1.]])\n",
            "##############################\n"
          ]
        }
      ],
      "execution_count": null
    },
    {
      "metadata": {
        "ExecuteTime": {
          "end_time": "2024-09-24T11:30:08.895707Z",
          "start_time": "2024-09-24T11:30:08.878552Z"
        },
        "id": "be824b66c7925c3a",
        "outputId": "afb0fae4-bec0-4140-b29b-ba164b66fffd"
      },
      "cell_type": "code",
      "source": [
        "''' 텐서의 나눗셈 '''\n",
        "#둘 다 동일하게 나눗셈 연산이 이뤄짐\n",
        "t9 = torch.div(t1, t2)\n",
        "t10 = t1 / t2\n",
        "print(t9)\n",
        "print(t10)"
      ],
      "id": "be824b66c7925c3a",
      "outputs": [
        {
          "name": "stdout",
          "output_type": "stream",
          "text": [
            "tensor([[1., 1., 1.],\n",
            "        [1., 1., 1.]])\n",
            "tensor([[1., 1., 1.],\n",
            "        [1., 1., 1.]])\n"
          ]
        }
      ],
      "execution_count": null
    },
    {
      "metadata": {
        "id": "269441ab3946f8d6"
      },
      "cell_type": "markdown",
      "source": [
        "# g_tensor_operations_mm.ipynb"
      ],
      "id": "269441ab3946f8d6"
    },
    {
      "metadata": {
        "ExecuteTime": {
          "end_time": "2024-09-24T11:30:11.564823Z",
          "start_time": "2024-09-24T11:30:11.549380Z"
        },
        "id": "2a6362562ddf8678",
        "outputId": "c29fdc46-057d-4b17-9c68-d1d068d31ff2"
      },
      "cell_type": "code",
      "source": [
        "import torch\n",
        "''' 내적 연산 '''\n",
        "t1 = torch.dot(\n",
        "  torch.tensor([2, 3]), torch.tensor([2, 1])\n",
        ")\n",
        "print(t1, t1.size()) #7, scalar 값이라 0 dimension\n"
      ],
      "id": "2a6362562ddf8678",
      "outputs": [
        {
          "name": "stdout",
          "output_type": "stream",
          "text": [
            "tensor(7) torch.Size([])\n"
          ]
        }
      ],
      "execution_count": null
    },
    {
      "metadata": {
        "ExecuteTime": {
          "end_time": "2024-09-24T11:30:12.306188Z",
          "start_time": "2024-09-24T11:30:12.281057Z"
        },
        "id": "9d605eb61bb0e5a5",
        "outputId": "9c194b5f-cda0-4c6a-99a4-6a7c2a788ac4"
      },
      "cell_type": "code",
      "source": [
        "''' 행렬곱 '''\n",
        "#행렬곱을 하려면 앞의 열과 뒤의 행 크기가 같아야함.\n",
        "t2 = torch.randn(2, 3) # 크기가 (2,3)인\n",
        "t3 = torch.randn(3, 2) # 랜덤 실수 생성\n",
        "print(t2)\n",
        "print(t3)\n",
        "t4 = torch.mm(t2, t3) #행렬곱 진행\n",
        "print(t4, t4.size()) # 행렬곱 연산 결과는 앞의 행x뒤의 열이다."
      ],
      "id": "9d605eb61bb0e5a5",
      "outputs": [
        {
          "name": "stdout",
          "output_type": "stream",
          "text": [
            "tensor([[-1.9286, -1.1155,  2.2702],\n",
            "        [ 0.1513, -0.6572,  0.0337]])\n",
            "tensor([[ 0.5095, -1.2934],\n",
            "        [ 0.0326, -1.9171],\n",
            "        [ 1.1867, -1.0347]])\n",
            "tensor([[1.6750, 2.2840],\n",
            "        [0.0956, 1.0294]]) torch.Size([2, 2])\n"
          ]
        }
      ],
      "execution_count": null
    },
    {
      "metadata": {
        "ExecuteTime": {
          "end_time": "2024-09-24T11:30:15.068508Z",
          "start_time": "2024-09-24T11:30:15.047862Z"
        },
        "id": "35059519f9526888",
        "outputId": "d1debb91-901f-46b1-db27-6cd2b272486d"
      },
      "cell_type": "code",
      "source": [
        "''' 배치 행렬곱 '''\n",
        "t5 = torch.randn(10, 3, 4) # 크기가 (10, 3, 4)인 랜덤 실수 텐서\n",
        "t6 = torch.randn(10, 4, 5) # 크기가 (10, 4, 5)인 랜덤 실수 텐서\n",
        "print(t5)\n",
        "print(t6)\n",
        "# 배치 행렬곱 수행\n",
        "# t5와 t6에서 각각의 (3,4), (4,5) 행렬을 가져와 행렬곱함.\n",
        "# 즉, 그 결과는 (10, 3, 5)\n",
        "t7 = torch.bmm(t5, t6)\n",
        "print(t7.size())"
      ],
      "id": "35059519f9526888",
      "outputs": [
        {
          "name": "stdout",
          "output_type": "stream",
          "text": [
            "tensor([[[-0.2622, -0.7324, -1.5412,  1.7046],\n",
            "         [-0.3845,  0.3328,  1.2672,  1.9288],\n",
            "         [ 0.9224,  0.6983,  0.4298,  0.7367]],\n",
            "\n",
            "        [[-0.6765, -1.6013,  1.4043,  0.0275],\n",
            "         [ 1.1396,  0.8319, -2.8290,  0.7990],\n",
            "         [-0.0259, -0.1426,  0.0289,  0.4560]],\n",
            "\n",
            "        [[ 0.2564,  0.5316,  0.9480, -0.8093],\n",
            "         [ 1.6049, -0.3759, -1.0110, -2.9320],\n",
            "         [ 0.7230, -1.0887, -1.8443,  0.9148]],\n",
            "\n",
            "        [[-1.3802, -2.2965, -0.1057,  1.1269],\n",
            "         [-0.0881, -1.5910,  1.1006,  0.4278],\n",
            "         [ 0.3104,  0.7605, -0.1078, -0.4368]],\n",
            "\n",
            "        [[ 0.1931, -0.7604, -0.3729, -0.3506],\n",
            "         [ 0.6184, -0.8416,  1.1644, -0.0788],\n",
            "         [-1.1480,  1.0007, -1.1884, -0.7783]],\n",
            "\n",
            "        [[-0.2389,  0.2970, -0.5581, -0.0832],\n",
            "         [-1.2782,  0.4728, -0.4541,  0.4006],\n",
            "         [ 0.3103, -0.8570, -0.5487, -0.5895]],\n",
            "\n",
            "        [[ 0.5791,  1.0235, -1.2904, -1.0635],\n",
            "         [ 1.2939,  0.6420,  1.3072, -0.6527],\n",
            "         [-0.4425, -0.0483, -1.5344,  0.4059]],\n",
            "\n",
            "        [[ 0.6875,  0.8909,  0.4340,  0.3199],\n",
            "         [-1.8051, -0.7836,  0.5342, -0.5598],\n",
            "         [ 0.8304, -0.4330,  1.2975,  0.6574]],\n",
            "\n",
            "        [[ 1.2696, -0.0210,  2.0489, -0.0093],\n",
            "         [ 0.6655,  0.9602,  0.1817,  1.5410],\n",
            "         [ 0.3051, -1.2730, -0.7142,  0.2941]],\n",
            "\n",
            "        [[-0.1969,  0.2946,  0.1490, -0.9612],\n",
            "         [ 0.7996,  0.8726, -1.0226, -1.1449],\n",
            "         [ 0.2012, -0.5557, -0.5314, -1.4093]]])\n",
            "tensor([[[ 3.3541e-01,  2.1552e-01, -4.0263e-02, -6.8621e-01,  6.9898e-01],\n",
            "         [-2.8560e-03,  4.7359e-01, -4.7124e-01, -4.9073e-01,  2.0099e-01],\n",
            "         [-2.4898e-01, -9.7223e-01,  1.4367e+00, -1.4760e+00, -7.2019e-02],\n",
            "         [-3.2934e-01, -6.3324e-01, -1.4208e+00,  3.9653e-01, -2.7190e-01]],\n",
            "\n",
            "        [[-9.1362e-01, -2.7264e-01, -5.0200e-01,  9.2448e-01,  7.8620e-01],\n",
            "         [ 2.2552e+00,  7.9853e-01,  1.2423e+00,  1.1087e+00, -1.4658e+00],\n",
            "         [ 6.5519e-01, -1.4297e-01, -5.5632e-01, -2.7043e-01, -5.2543e-01],\n",
            "         [-3.1710e-02, -4.3577e-02, -1.3044e+00, -1.2512e+00,  4.4448e+00]],\n",
            "\n",
            "        [[ 7.5303e-02,  7.8166e-01, -8.7011e-02, -5.8927e-02,  2.1451e+00],\n",
            "         [ 6.6953e-01, -9.4611e-01, -4.7909e-01, -3.1284e-01,  7.1162e-01],\n",
            "         [ 2.3014e-01,  4.3543e-02,  1.5117e+00,  4.8586e-01,  7.0675e-01],\n",
            "         [ 2.1148e+00, -7.9412e-01, -1.8129e+00, -3.7903e-01, -2.1727e-01]],\n",
            "\n",
            "        [[ 5.5124e-01,  1.8956e-01, -6.8037e-02,  1.6767e+00,  1.2682e+00],\n",
            "         [-3.6879e-01,  1.0219e+00, -6.6772e-01,  1.6238e-01,  9.4641e-01],\n",
            "         [-4.2166e-01,  2.0532e-01,  5.5824e-01, -1.3719e+00, -6.6734e-01],\n",
            "         [-1.3845e+00, -2.4023e-01, -1.7230e+00, -7.0688e-01, -1.8824e+00]],\n",
            "\n",
            "        [[ 4.0822e-01,  3.4349e-02, -1.9394e+00,  2.0812e+00, -1.1046e+00],\n",
            "         [-1.2513e+00, -2.8896e-01, -6.6172e-01,  9.6231e-01, -9.7630e-01],\n",
            "         [-1.1328e+00, -1.1360e+00,  1.1953e+00,  9.5033e-01, -1.8285e+00],\n",
            "         [ 2.2803e-01,  1.1989e+00,  4.5158e-01, -4.7574e-01,  1.6179e+00]],\n",
            "\n",
            "        [[-1.2471e+00, -5.2194e-01, -1.3873e+00, -1.1191e+00,  5.8859e-01],\n",
            "         [-3.3107e-01,  4.4850e-01, -2.0429e-01, -6.8934e-01, -2.7520e-01],\n",
            "         [ 1.6882e+00, -7.6953e-01, -4.8961e-01,  8.8545e-01, -1.1306e+00],\n",
            "         [ 9.8398e-01,  4.2731e-01,  9.6762e-02,  5.5898e-01,  2.0323e+00]],\n",
            "\n",
            "        [[ 4.2288e-01,  2.6617e+00, -9.4453e-01,  2.3918e-01, -8.3917e-01],\n",
            "         [ 4.2029e-01, -6.3108e-01,  5.4532e-01,  1.1683e+00, -7.3157e-01],\n",
            "         [ 6.9388e-01,  4.0611e-01, -1.7016e+00, -5.3354e-01,  8.1716e-01],\n",
            "         [-4.2768e-01,  1.9400e-01,  5.8864e-01, -2.1796e-01,  8.8965e-02]],\n",
            "\n",
            "        [[ 2.4622e-01, -5.6874e-01,  1.1884e+00,  2.5567e-01,  2.3721e+00],\n",
            "         [ 6.3041e-01, -1.1414e+00, -9.9377e-01,  3.1565e-01,  7.3933e-01],\n",
            "         [-1.3746e-01,  6.2883e-01, -5.0254e-01, -6.2523e-01,  1.7652e-01],\n",
            "         [-1.5303e+00,  9.7993e-01,  1.0062e+00,  2.6382e-01,  3.9043e-01]],\n",
            "\n",
            "        [[ 6.6408e-02, -3.2538e-01,  3.9481e-01,  1.8752e-01,  4.0522e-01],\n",
            "         [-1.7011e+00,  1.5141e+00, -1.0713e+00,  1.1038e+00, -2.1599e+00],\n",
            "         [ 1.2073e+00,  1.5680e+00,  4.4940e-02,  1.3555e+00,  5.7356e-02],\n",
            "         [ 6.7078e-01, -9.9318e-01,  1.8141e+00, -1.8414e+00,  1.5798e+00]],\n",
            "\n",
            "        [[ 2.0792e+00,  2.3154e-02,  5.9026e-01,  1.8107e-01, -6.8162e-01],\n",
            "         [ 2.1105e-02,  6.8359e-01, -2.0582e-01,  1.5907e+00,  2.3072e+00],\n",
            "         [-8.6401e-01, -7.7310e-01, -1.4366e+00, -7.9716e-02, -7.1887e-01],\n",
            "         [ 1.1100e+00, -2.0092e-01, -7.8711e-01, -1.1685e+00,  3.8986e-01]]])\n",
            "torch.Size([10, 3, 5])\n"
          ]
        }
      ],
      "execution_count": null
    },
    {
      "metadata": {
        "id": "4ecf991de1418b73"
      },
      "cell_type": "markdown",
      "source": [
        "# h_tensor_operations_matmul.ipynb"
      ],
      "id": "4ecf991de1418b73"
    },
    {
      "metadata": {
        "ExecuteTime": {
          "end_time": "2024-09-24T11:30:42.504731Z",
          "start_time": "2024-09-24T11:30:42.475041Z"
        },
        "id": "e8eb4235bc898b61",
        "outputId": "d94c0bb0-9069-435e-8281-cec14a0843f6"
      },
      "cell_type": "code",
      "source": [
        "import torch\n",
        "\n",
        "# vector x vector: dot product (벡터 간의 내적 연산)\n",
        "t1 = torch.randn(3)  # 크기가 3인 1차원 텐서 (벡터)를 생성\n",
        "t2 = torch.randn(3)  # 크기가 3인 또 다른 1차원 텐서 (벡터)를 생성\n",
        "print(torch.matmul(t1, t2).size())  # 두 벡터의 점곱 결과, 크기는 스칼라 (torch.Size([]))\n",
        "\n",
        "# matrix x vector: broadcasted dot (행렬과 벡터 간의 곱)\n",
        "t3 = torch.randn(3, 4)  # 크기가 (3, 4)인 2차원 텐서 (행렬)를 생성\n",
        "t4 = torch.randn(4)     # 크기가 4인 1차원 텐서 (벡터)를 생성\n",
        "print(torch.matmul(t3, t4).size())  # 행렬과 벡터 간의 곱셈 결과, 크기는 (3,)\n"
      ],
      "id": "e8eb4235bc898b61",
      "outputs": [
        {
          "name": "stdout",
          "output_type": "stream",
          "text": [
            "torch.Size([])\n",
            "torch.Size([3])\n"
          ]
        }
      ],
      "execution_count": null
    },
    {
      "metadata": {
        "ExecuteTime": {
          "end_time": "2024-09-24T11:30:43.538306Z",
          "start_time": "2024-09-24T11:30:43.518099Z"
        },
        "id": "266a83e86e17c484",
        "outputId": "ef369943-f934-43ef-a8ff-8286957ec607"
      },
      "cell_type": "code",
      "source": [
        "# batched matrix x vector: broadcasted dot (배치 행렬과 벡터 간의 곱)\n",
        "t5 = torch.randn(10, 3, 4)  # 크기가 (10, 3, 4)인 배치 형태의 텐서 (10개의 (3, 4) 행렬)를 생성\n",
        "t6 = torch.randn(4)         # 크기가 4인 1차원 텐서 (벡터)를 생성\n",
        "print(torch.matmul(t5, t6).size())  # 각 배치별로 행렬과 벡터 간의 곱셈, 결과 크기는 (10, 3)\n",
        "\n",
        "# batched matrix x batched matrix: bmm (배치 행렬들 간의 곱셈)\n",
        "t7 = torch.randn(10, 3, 4)  # 크기가 (10, 3, 4)인 배치 형태의 텐서 (10개의 (3, 4) 행렬)를 생성\n",
        "t8 = torch.randn(10, 4, 5)  # 크기가 (10, 4, 5)인 배치 형태의 텐서 (10개의 (4, 5) 행렬)를 생성\n",
        "print(torch.matmul(t7, t8).size())  # 각 배치별로 행렬곱, 결과 크기는 (10, 3, 5)\n",
        "\n",
        "# batched matrix x matrix: bmm (배치 행렬과 일반 행렬 간의 곱셈)\n",
        "t9 = torch.randn(10, 3, 4)  # 크기가 (10, 3, 4)인 배치 형태의 텐서 (10개의 (3, 4) 행렬)를 생성\n",
        "t10 = torch.randn(4, 5)     # 크기가 (4, 5)인 2차원 텐서 (행렬)를 생성\n",
        "print(torch.matmul(t9, t10).size())  # 각 배치별로 행렬곱, 결과 크기는 (10, 3, 5)"
      ],
      "id": "266a83e86e17c484",
      "outputs": [
        {
          "name": "stdout",
          "output_type": "stream",
          "text": [
            "torch.Size([10, 3])\n",
            "torch.Size([10, 3, 5])\n",
            "torch.Size([10, 3, 5])\n"
          ]
        }
      ],
      "execution_count": null
    },
    {
      "metadata": {
        "id": "1609a16438259a2b"
      },
      "cell_type": "markdown",
      "source": [
        "# i_tensor_broadcasting.ipynb"
      ],
      "id": "1609a16438259a2b"
    },
    {
      "metadata": {
        "ExecuteTime": {
          "end_time": "2024-09-24T11:30:45.943020Z",
          "start_time": "2024-09-24T11:30:45.919213Z"
        },
        "id": "31e954f42fbb6c80",
        "outputId": "7fe7e13d-61d5-4dc2-dab9-452ed6e7d848"
      },
      "cell_type": "code",
      "source": [
        "import torch\n",
        "\n",
        "# 스칼라와 텐서의 곱셈\n",
        "t1 = torch.tensor([1.0, 2.0, 3.0])  # 크기 (3,)의 1차원 텐서 생성\n",
        "t2 = 2.0  # 스칼라 값\n",
        "print(t1 * t2)  # 각 요소에 스칼라 값을 곱하여 결과 텐서를 반환\n",
        "\n",
        "print(\"#\" * 50, 1)"
      ],
      "id": "31e954f42fbb6c80",
      "outputs": [
        {
          "name": "stdout",
          "output_type": "stream",
          "text": [
            "tensor([2., 4., 6.])\n",
            "################################################## 1\n"
          ]
        }
      ],
      "execution_count": null
    },
    {
      "metadata": {
        "ExecuteTime": {
          "end_time": "2024-09-24T11:30:46.753046Z",
          "start_time": "2024-09-24T11:30:46.740541Z"
        },
        "id": "e521630593a4b123",
        "outputId": "fee1db2f-1e9d-4b1d-d718-f0782298f0a6"
      },
      "cell_type": "code",
      "source": [
        "# 브로드캐스팅을 이용한 텐서 간 연산\n",
        "t3 = torch.tensor([[0, 1], [2, 4], [10, 10]])  # 크기 (3, 2)의 2차원 텐서 생성\n",
        "t4 = torch.tensor([4, 5])  # 크기 (2,)의 1차원 텐서\n",
        "print(t3 - t4)  # t4가 t3의 각 행에 브로드캐스트되어 요소별로 뺄셈 연산 수행\n",
        "\n",
        "print(\"#\" * 50, 2)"
      ],
      "id": "e521630593a4b123",
      "outputs": [
        {
          "name": "stdout",
          "output_type": "stream",
          "text": [
            "tensor([[-4, -4],\n",
            "        [-2, -1],\n",
            "        [ 6,  5]])\n",
            "################################################## 2\n"
          ]
        }
      ],
      "execution_count": null
    },
    {
      "metadata": {
        "ExecuteTime": {
          "end_time": "2024-09-24T11:30:47.668112Z",
          "start_time": "2024-09-24T11:30:47.652003Z"
        },
        "id": "8406ea737d55348",
        "outputId": "83d15a90-e241-4f9a-d88d-b8895c920797"
      },
      "cell_type": "code",
      "source": [
        "#다양한 산술 연산\n",
        "t5 = torch.tensor([[1., 2.], [3., 4.]])  # 크기 (2, 2)의 2차원 텐서 생성\n",
        "print(t5 + 2.0)  # 각 요소에 2.0을 더하는 연산 (add)\n",
        "print(t5 - 2.0)  # 각 요소에서 2.0을 빼는 연산 (sub)\n",
        "print(t5 * 2.0)  # 각 요소에 2.0을 곱하는 연산 (mul)\n",
        "print(t5 / 2.0)  # 각 요소를 2.0으로 나누는 연산 (div)\n",
        "\n",
        "print(\"#\" * 50, 3)"
      ],
      "id": "8406ea737d55348",
      "outputs": [
        {
          "name": "stdout",
          "output_type": "stream",
          "text": [
            "tensor([[3., 4.],\n",
            "        [5., 6.]])\n",
            "tensor([[-1.,  0.],\n",
            "        [ 1.,  2.]])\n",
            "tensor([[2., 4.],\n",
            "        [6., 8.]])\n",
            "tensor([[0.5000, 1.0000],\n",
            "        [1.5000, 2.0000]])\n",
            "################################################## 3\n"
          ]
        }
      ],
      "execution_count": null
    },
    {
      "metadata": {
        "ExecuteTime": {
          "end_time": "2024-09-24T11:30:48.600519Z",
          "start_time": "2024-09-24T11:30:48.569271Z"
        },
        "id": "98ee67ed87379e75",
        "outputId": "69c2b739-d54a-40f1-a741-d4246ebe1a7f"
      },
      "cell_type": "code",
      "source": [
        "# 텐서 정규화 함수\n",
        "def normalize(x):\n",
        "  return x / 255  # 입력 텐서를 255로 나누어 정규화\n",
        "\n",
        "t6 = torch.randn(3, 28, 28)  # 크기 (3, 28, 28)의 랜덤 텐서 생성 (예: 이미지 3채널)\n",
        "print(normalize(t6).size())  # 정규화 후 크기를 출력\n",
        "\n",
        "print(\"#\" * 50, 4)"
      ],
      "id": "98ee67ed87379e75",
      "outputs": [
        {
          "name": "stdout",
          "output_type": "stream",
          "text": [
            "torch.Size([3, 28, 28])\n",
            "################################################## 4\n"
          ]
        }
      ],
      "execution_count": null
    },
    {
      "metadata": {
        "ExecuteTime": {
          "end_time": "2024-09-24T11:30:49.427707Z",
          "start_time": "2024-09-24T11:30:49.414293Z"
        },
        "id": "9a542b814b2eb8f8",
        "outputId": "81c78b8d-ec53-48c1-8b54-152e52d1c763"
      },
      "cell_type": "code",
      "source": [
        "# 브로드캐스팅을 이용한 다양한 크기의 텐서 간 연산\n",
        "t7 = torch.tensor([[1, 2], [0, 3]])  # 크기 (2, 2)의 텐서\n",
        "t8 = torch.tensor([[3, 1]])  # 크기 (1, 2)의 텐서\n",
        "t9 = torch.tensor([[5], [2]])  # 크기 (2, 1)의 텐서\n",
        "t10 = torch.tensor([7])  # 크기 (1,)의 텐서\n",
        "print(t7 + t8)   # t8이 t7에 브로드캐스트되어 요소별로 더함\n",
        "print(t7 + t9)   # t9가 t7에 브로드캐스트되어 요소별로 더함\n",
        "print(t8 + t9)   # t9가 t8에 브로드캐스트되어 요소별로 더함\n",
        "print(t7 + t10)  # t10이 t7에 브로드캐스트되어 요소별로 더함\n",
        "\n",
        "print(\"#\" * 50, 5)"
      ],
      "id": "9a542b814b2eb8f8",
      "outputs": [
        {
          "name": "stdout",
          "output_type": "stream",
          "text": [
            "tensor([[4, 3],\n",
            "        [3, 4]])\n",
            "tensor([[6, 7],\n",
            "        [2, 5]])\n",
            "tensor([[8, 6],\n",
            "        [5, 3]])\n",
            "tensor([[ 8,  9],\n",
            "        [ 7, 10]])\n",
            "################################################## 5\n"
          ]
        }
      ],
      "execution_count": null
    },
    {
      "metadata": {
        "ExecuteTime": {
          "end_time": "2024-09-24T11:30:50.227548Z",
          "start_time": "2024-09-24T11:30:50.213046Z"
        },
        "id": "126027db2840d5a4",
        "outputId": "d93463db-772f-490f-b2a2-264c71dffade"
      },
      "cell_type": "code",
      "source": [
        "# 다차원 텐서 간 브로드캐스팅을 이용한 연산\n",
        "t11 = torch.ones(4, 3, 2)  # 크기 (4, 3, 2)의 텐서\n",
        "t12 = t11 * torch.rand(3, 2)  # 2번째와 3번째 차원이 t11과 동일, 첫 번째 차원이 없음 (브로드캐스트)\n",
        "print(t12.shape)  # 결과는 (4, 3, 2)\n",
        "\n",
        "t13 = torch.ones(4, 3, 2)\n",
        "t14 = t13 * torch.rand(3, 1)  # 2번째 차원만 동일하고, 3번째 차원이 1 (브로드캐스트)\n",
        "print(t14.shape)  # 결과는 (4, 3, 2)\n",
        "\n",
        "t15 = torch.ones(4, 3, 2)\n",
        "t16 = t15 * torch.rand(1, 2)  # 3번째 차원만 동일하고, 2번째 차원이 1 (브로드캐스트)\n",
        "print(t16.shape)  # 결과는 (4, 3, 2)\n",
        "\n",
        "t17 = torch.ones(5, 3, 4, 1)\n",
        "t18 = torch.rand(3, 1, 1)  # 2번째 차원이 동일하고, 3, 4번째 차원이 1 (브로드캐스트)\n",
        "print((t17 + t18).size())  # 결과는 (5, 3, 4, 1)\n",
        "\n",
        "print(\"#\" * 50, 6)\n",
        "\n",
        "t19 = torch.empty(5, 1, 4, 1)  # 크기 (5, 1, 4, 1)의 텐서\n",
        "t20 = torch.empty(3, 1, 1)  # 크기 (3, 1, 1)의 텐서\n",
        "print((t19 + t20).size())  # 브로드캐스팅 후 결과 크기는 (5, 3, 4, 1)\n",
        "\n",
        "t21 = torch.empty(1)  # 크기 (1)의 텐서\n",
        "t22 = torch.empty(3, 1, 7)  # 크기 (3, 1, 7)의 텐서\n",
        "print((t21 + t22).size())  # 브로드캐스팅 후 결과 크기는 (3, 1, 7)\n",
        "\n",
        "t23 = torch.ones(3, 3, 3)  # 크기 (3, 3, 3)의 텐서\n",
        "t24 = torch.ones(3, 1, 3)  # 크기 (3, 1, 3)의 텐서\n",
        "print((t23 + t24).size())  # 브로드캐스팅 후 결과 크기는 (3, 3, 3)\n",
        "\n",
        "# 아래 코드는 브로드캐스트가 실패하는 예시임 (추가 코드)\n",
        "# t25 = torch.empty(5, 2, 4, 1)\n",
        "# t26 = torch.empty(3, 1, 1)\n",
        "# print((t25 + t26).size())\n",
        "# RuntimeError: 텐서의 크기가 맞지 않기 때문에 오류 발생\n",
        "\n",
        "print(\"#\" * 50, 7)\n"
      ],
      "id": "126027db2840d5a4",
      "outputs": [
        {
          "name": "stdout",
          "output_type": "stream",
          "text": [
            "torch.Size([4, 3, 2])\n",
            "torch.Size([4, 3, 2])\n",
            "torch.Size([4, 3, 2])\n",
            "torch.Size([5, 3, 4, 1])\n",
            "################################################## 6\n",
            "torch.Size([5, 3, 4, 1])\n",
            "torch.Size([3, 1, 7])\n",
            "torch.Size([3, 3, 3])\n",
            "################################################## 7\n"
          ]
        }
      ],
      "execution_count": null
    },
    {
      "metadata": {
        "ExecuteTime": {
          "end_time": "2024-09-24T11:30:50.965646Z",
          "start_time": "2024-09-24T11:30:50.945756Z"
        },
        "id": "f07e1b08a13a17a",
        "outputId": "c53cdb11-edcb-41c2-d85b-a6c65f8be288"
      },
      "cell_type": "code",
      "source": [
        "# 텐서의 지수와 제곱 연산\n",
        "t27 = torch.ones(4) * 5  # 모든 요소가 5인 텐서 생성\n",
        "print(t27)  # 출력: tensor([5, 5, 5, 5])\n",
        "\n",
        "t28 = torch.pow(t27, 2)  # 각 요소를 제곱하여 새로운 텐서 생성\n",
        "print(t28)  # 출력: tensor([25, 25, 25, 25])\n",
        "\n",
        "exp = torch.arange(1., 5.)  # 크기 (4,)인 텐서 생성 [1., 2., 3., 4.]\n",
        "a = torch.arange(1., 5.)  # 크기 (4,)인 텐서 생성 [1., 2., 3., 4.]\n",
        "t29 = torch.pow(a, exp)  # 각 요소를 exp에 대응되는 값만큼 제곱\n",
        "print(t29)  # 출력: tensor([1., 4., 27., 256.])  각각 1^1, 2^2, 3^3, 4^4\n"
      ],
      "id": "f07e1b08a13a17a",
      "outputs": [
        {
          "name": "stdout",
          "output_type": "stream",
          "text": [
            "tensor([5., 5., 5., 5.])\n",
            "tensor([25., 25., 25., 25.])\n",
            "tensor([  1.,   4.,  27., 256.])\n"
          ]
        }
      ],
      "execution_count": null
    },
    {
      "metadata": {
        "id": "dbf59fe804f82d7a"
      },
      "cell_type": "markdown",
      "source": [
        "# j_tensor_indexing_slicing.ipynb"
      ],
      "id": "dbf59fe804f82d7a"
    },
    {
      "metadata": {
        "ExecuteTime": {
          "end_time": "2024-09-24T11:30:53.115144Z",
          "start_time": "2024-09-24T11:30:53.085095Z"
        },
        "id": "60ee5d8be3277581",
        "outputId": "9d867b10-2fb9-4498-d6d5-3ecad4d06cbc"
      },
      "cell_type": "code",
      "source": [
        "import torch\n",
        "\n",
        "''' 텐서의 인덱싱 및 슬라이싱 '''\n",
        "x = torch.tensor(\n",
        "  [[0, 1, 2, 3, 4],\n",
        "   [5, 6, 7, 8, 9],\n",
        "   [10, 11, 12, 13, 14]]\n",
        ")\n",
        "\n",
        "# x[1]은 2차원 텐서에서 두 번째 행을 선택, 결과는 [5, 6, 7, 8, 9]\n",
        "print(x[1])  # >>> tensor([5, 6, 7, 8, 9])\n",
        "\n",
        "# x[:, 1]은 모든 행에서 두 번째 열을 선택, 결과는 [1, 6, 11]\n",
        "print(x[:, 1])  # >>> tensor([1, 6, 11])\n",
        "\n",
        "# x[1, 2]는 두 번째 행, 세 번째 열의 값을 선택, 결과는 7\n",
        "print(x[1, 2])  # >>> tensor(7)\n",
        "\n",
        "# x[:, -1]은 모든 행에서 마지막 열을 선택, 결과는 [4, 9, 14]\n",
        "print(x[:, -1])  # >>> tensor([4, 9, 14])\n",
        "\n",
        "print(\"#\" * 50, 1)"
      ],
      "id": "60ee5d8be3277581",
      "outputs": [
        {
          "name": "stdout",
          "output_type": "stream",
          "text": [
            "tensor([5, 6, 7, 8, 9])\n",
            "tensor([ 1,  6, 11])\n",
            "tensor(7)\n",
            "tensor([ 4,  9, 14])\n",
            "################################################## 1\n"
          ]
        }
      ],
      "execution_count": null
    },
    {
      "metadata": {
        "ExecuteTime": {
          "end_time": "2024-09-24T11:30:53.883075Z",
          "start_time": "2024-09-24T11:30:53.860317Z"
        },
        "id": "3fdf4b3f8aff458b",
        "outputId": "822d1995-cb2a-4111-85e9-d58f0f78ab51"
      },
      "cell_type": "code",
      "source": [
        "''' 텐서의 슬라이싱을 통한 부분 선택 '''\n",
        "# x[1:]은 두 번째 행부터 마지막 행까지 선택\n",
        "print(x[1:])  # >>> tensor([[ 5,  6,  7,  8,  9], [10, 11, 12, 13, 14]])\n",
        "\n",
        "# x[1:, 3:]은 두 번째 행부터 마지막 행의 세 번째 열 이후의 열을 선택\n",
        "print(x[1:, 3:])  # >>> tensor([[ 8,  9], [13, 14]])\n",
        "\n",
        "print(\"#\" * 50, 2)"
      ],
      "id": "3fdf4b3f8aff458b",
      "outputs": [
        {
          "name": "stdout",
          "output_type": "stream",
          "text": [
            "tensor([[ 5,  6,  7,  8,  9],\n",
            "        [10, 11, 12, 13, 14]])\n",
            "tensor([[ 8,  9],\n",
            "        [13, 14]])\n",
            "################################################## 2\n"
          ]
        }
      ],
      "execution_count": null
    },
    {
      "metadata": {
        "ExecuteTime": {
          "end_time": "2024-09-24T11:30:54.614373Z",
          "start_time": "2024-09-24T11:30:54.582303Z"
        },
        "id": "ddf6997eb440383f",
        "outputId": "33c8b6ee-1624-4268-bb9d-de7c8dc0ceb2"
      },
      "cell_type": "code",
      "source": [
        "''' 텐서의 특정 위치 값 변경 '''\n",
        "y = torch.zeros((6, 6))  # 크기 (6, 6)의 0으로 채워진 텐서 생성\n",
        "\n",
        "# y[1:4, 2] = 1: 두 번째 열의 두 번째부터 네 번째 행까지 1로 값 변경\n",
        "y[1:4, 2] = 1\n",
        "print(y)\n",
        "\n",
        "# y[1:4, 1:4]: 두 번째부터 네 번째 행, 첫 번째부터 네 번째 열까지 선택하여 부분 텐서 출력\n",
        "print(y[1:4, 1:4])  # 선택된 서브 텐서 출력\n",
        "\n",
        "print(\"#\" * 50, 3)"
      ],
      "id": "ddf6997eb440383f",
      "outputs": [
        {
          "name": "stdout",
          "output_type": "stream",
          "text": [
            "tensor([[0., 0., 0., 0., 0., 0.],\n",
            "        [0., 0., 1., 0., 0., 0.],\n",
            "        [0., 0., 1., 0., 0., 0.],\n",
            "        [0., 0., 1., 0., 0., 0.],\n",
            "        [0., 0., 0., 0., 0., 0.],\n",
            "        [0., 0., 0., 0., 0., 0.]])\n",
            "tensor([[0., 1., 0.],\n",
            "        [0., 1., 0.],\n",
            "        [0., 1., 0.]])\n",
            "################################################## 3\n"
          ]
        }
      ],
      "execution_count": null
    },
    {
      "metadata": {
        "ExecuteTime": {
          "end_time": "2024-09-24T11:30:55.321849Z",
          "start_time": "2024-09-24T11:30:55.305753Z"
        },
        "id": "3c83497adff6470f",
        "outputId": "759ecf3c-d9b7-4dfe-8073-6b12b986d0f7"
      },
      "cell_type": "code",
      "source": [
        "''' 텐서의 값 선택 및 수정 '''\n",
        "z = torch.tensor(\n",
        "  [[1, 2, 3, 4],\n",
        "   [2, 3, 4, 5],\n",
        "   [5, 6, 7, 8]]\n",
        ")\n",
        "\n",
        "# z[:2]는 첫 번째와 두 번째 행을 선택\n",
        "print(z[:2])  # >>> tensor([[1, 2, 3, 4], [2, 3, 4, 5]])\n",
        "\n",
        "# z[1:, 1:3]은 두 번째 행부터 마지막 행까지의 두 번째와 세 번째 열을 선택\n",
        "print(z[1:, 1:3])  # >>> tensor([[3, 4], [6, 7]])\n",
        "\n",
        "# z[:, 1:]은 모든 행의 두 번째 열부터 마지막 열까지 선택\n",
        "print(z[:, 1:])  # >>> tensor([[2, 3, 4], [3, 4, 5], [6, 7, 8]])\n",
        "\n",
        "# z[1:, 1:3] = 0: 두 번째 행부터 마지막 행까지의 두 번째와 세 번째 열을 0으로 변경\n",
        "z[1:, 1:3] = 0\n",
        "print(z)  # 변경된 z 출력, 선택된 부분이 0으로 바뀜\n"
      ],
      "id": "3c83497adff6470f",
      "outputs": [
        {
          "name": "stdout",
          "output_type": "stream",
          "text": [
            "tensor([[1, 2, 3, 4],\n",
            "        [2, 3, 4, 5]])\n",
            "tensor([[3, 4],\n",
            "        [6, 7]])\n",
            "tensor([[2, 3, 4],\n",
            "        [3, 4, 5],\n",
            "        [6, 7, 8]])\n",
            "tensor([[1, 2, 3, 4],\n",
            "        [2, 0, 0, 5],\n",
            "        [5, 0, 0, 8]])\n"
          ]
        }
      ],
      "execution_count": null
    },
    {
      "metadata": {
        "id": "4e6eb9d08f942dd"
      },
      "cell_type": "markdown",
      "source": [
        "# k_tensor_reshaping.ipynb"
      ],
      "id": "4e6eb9d08f942dd"
    },
    {
      "metadata": {
        "ExecuteTime": {
          "end_time": "2024-09-24T11:30:58.011066Z",
          "start_time": "2024-09-24T11:30:57.990796Z"
        },
        "id": "eeb625123f6b1695",
        "outputId": "33d1da10-9b3f-4f39-d662-c95d21a03933"
      },
      "cell_type": "code",
      "source": [
        "import torch\n",
        "\n",
        "''' 텐서의 뷰(view)와 리쉐이프(reshape) '''\n",
        "t1 = torch.tensor([[1, 2, 3], [4, 5, 6]])  # 크기 (2, 3)의 텐서 생성\n",
        "t2 = t1.view(3, 2)  # 텐서를 (3, 2)로 뷰 변경\n",
        "t3 = t1.reshape(1, 6)  # 텐서를 (1, 6)으로 리쉐이프\n",
        "print(t2)  # >>> tensor([[1, 2], [3, 4], [5, 6]])\n",
        "print(t3)  # >>> tensor([[1, 2, 3, 4, 5, 6]])\n",
        "\n",
        "t4 = torch.arange(8).view(2, 4)  # 0부터 7까지의 값을 갖는 (2, 4) 텐서 생성\n",
        "t5 = torch.arange(6).view(2, 3)  # 0부터 5까지의 값을 갖는 (2, 3) 텐서 생성\n",
        "print(t4)  # >>> tensor([[0, 1, 2, 3], [4, 5, 6, 7]])\n",
        "print(t5)  # >>> tensor([[0, 1, 2], [3, 4, 5]])\n",
        "\n",
        "print(\"#\" * 50, 1)\n"
      ],
      "id": "eeb625123f6b1695",
      "outputs": [
        {
          "name": "stdout",
          "output_type": "stream",
          "text": [
            "tensor([[1, 2],\n",
            "        [3, 4],\n",
            "        [5, 6]])\n",
            "tensor([[1, 2, 3, 4, 5, 6]])\n",
            "tensor([[0, 1, 2, 3],\n",
            "        [4, 5, 6, 7]])\n",
            "tensor([[0, 1, 2],\n",
            "        [3, 4, 5]])\n",
            "################################################## 1\n"
          ]
        }
      ],
      "execution_count": null
    },
    {
      "metadata": {
        "ExecuteTime": {
          "end_time": "2024-09-24T11:30:58.635281Z",
          "start_time": "2024-09-24T11:30:58.620984Z"
        },
        "id": "ba0280dcd7b1d516",
        "outputId": "5370baa8-ca08-425f-8510-43eed5c56868"
      },
      "cell_type": "code",
      "source": [
        "''' 텐서의 차원 축소 (squeeze) '''\n",
        "# 크기가 (1, 3, 1)인 텐서 생성\n",
        "t6 = torch.tensor([[[1], [2], [3]]])\n",
        "\n",
        "# 크기가 1인 모든 차원을 제거, 결과는 (3,)\n",
        "t7 = t6.squeeze()\n",
        "# 0번째 차원(가장 바깥 차원)만 제거, 결과는 (3, 1)\n",
        "t8 = t6.squeeze(0)\n",
        "print(t7)  # >>> tensor([1, 2, 3])\n",
        "print(t8)  # >>> tensor([[1], [2], [3]])\n",
        "\n",
        "print(\"#\" * 50, 2)\n"
      ],
      "id": "ba0280dcd7b1d516",
      "outputs": [
        {
          "name": "stdout",
          "output_type": "stream",
          "text": [
            "tensor([1, 2, 3])\n",
            "tensor([[1],\n",
            "        [2],\n",
            "        [3]])\n",
            "################################################## 2\n"
          ]
        }
      ],
      "execution_count": null
    },
    {
      "metadata": {
        "ExecuteTime": {
          "end_time": "2024-09-24T11:30:59.552383Z",
          "start_time": "2024-09-24T11:30:59.505795Z"
        },
        "id": "ea9b04128437eb52",
        "outputId": "6986951a-5c21-492f-e3c8-2481b69c6727"
      },
      "cell_type": "code",
      "source": [
        "''' 텐서의 차원 확장 (unsqueeze) '''\n",
        "# 크기가 (3,)인 텐서 생성\n",
        "t9 = torch.tensor([1, 2, 3])\n",
        "\n",
        "# 1번째 차원에 새로운 차원을 추가, 결과는 (3, 1)\n",
        "t10 = t9.unsqueeze(1)\n",
        "print(t10)  # >>> tensor([[1], [2], [3]])\n",
        "\n",
        "# 크기가 (2, 3)인 텐서 생성\n",
        "t11 = torch.tensor(\n",
        "  [[1, 2, 3],\n",
        "   [4, 5, 6]]\n",
        ")\n",
        "\n",
        "# 1번째 차원에 새로운 차원을 추가, 결과는 (2, 1, 3)\n",
        "t12 = t11.unsqueeze(1)\n",
        "print(t12, t12.shape)  # >>> tensor([[[1, 2, 3]], [[4, 5, 6]]]), torch.Size([2, 1, 3])\n",
        "\n",
        "print(\"#\" * 50, 3)"
      ],
      "id": "ea9b04128437eb52",
      "outputs": [
        {
          "name": "stdout",
          "output_type": "stream",
          "text": [
            "tensor([[1],\n",
            "        [2],\n",
            "        [3]])\n",
            "tensor([[[1, 2, 3]],\n",
            "\n",
            "        [[4, 5, 6]]]) torch.Size([2, 1, 3])\n",
            "################################################## 3\n"
          ]
        }
      ],
      "execution_count": null
    },
    {
      "metadata": {
        "ExecuteTime": {
          "end_time": "2024-09-24T11:31:00.347588Z",
          "start_time": "2024-09-24T11:31:00.317678Z"
        },
        "id": "486b00c2b9799517",
        "outputId": "bb38f3bd-1f66-4732-a0e4-4fa96d7146bb"
      },
      "cell_type": "code",
      "source": [
        "''' 텐서 평탄화 (flatten) '''\n",
        "# 크기 (2, 3)인 텐서 생성\n",
        "t13 = torch.tensor([[1, 2, 3], [4, 5, 6]])\n",
        "\n",
        "# 텐서를 1차원으로 평탄화, 결과는 (6,)\n",
        "t14 = t13.flatten()\n",
        "print(t14)  # >>> tensor([1, 2, 3, 4, 5, 6])\n",
        "\n",
        "# 크기가 (2, 2, 2)인 3차원 텐서 생성\n",
        "t15 = torch.tensor([[[1, 2],\n",
        "                     [3, 4]],\n",
        "                    [[5, 6],\n",
        "                     [7, 8]]])\n",
        "\n",
        "# 전체를 평탄화, 결과는 (8,)\n",
        "t16 = torch.flatten(t15)\n",
        "\n",
        "# 두 번째 차원부터 평탄화, 결과는 (2, 4)\n",
        "t17 = torch.flatten(t15, start_dim=1)\n",
        "print(t16)  # >>> tensor([1, 2, 3, 4, 5, 6, 7, 8])\n",
        "print(t17)  # >>> tensor([[1, 2, 3, 4], [5, 6, 7, 8]])\n",
        "\n",
        "print(\"#\" * 50, 4)"
      ],
      "id": "486b00c2b9799517",
      "outputs": [
        {
          "name": "stdout",
          "output_type": "stream",
          "text": [
            "tensor([1, 2, 3, 4, 5, 6])\n",
            "tensor([1, 2, 3, 4, 5, 6, 7, 8])\n",
            "tensor([[1, 2, 3, 4],\n",
            "        [5, 6, 7, 8]])\n",
            "################################################## 4\n"
          ]
        }
      ],
      "execution_count": null
    },
    {
      "metadata": {
        "ExecuteTime": {
          "end_time": "2024-09-24T11:31:01.175242Z",
          "start_time": "2024-09-24T11:31:01.150124Z"
        },
        "id": "ba1047804ed0810d",
        "outputId": "1d67eef8-12d1-4bfd-caf6-02ac4447ad2d"
      },
      "cell_type": "code",
      "source": [
        "''' 텐서 차원 변경 (permute)와 전치 (transpose) '''\n",
        "# 크기 (2, 3, 5)인 랜덤 텐서 생성\n",
        "t18 = torch.randn(2, 3, 5)\n",
        "print(t18.shape)  # >>> torch.Size([2, 3, 5])\n",
        "\n",
        "# 차원을 (2, 0, 1)로 변경, 결과는 (5, 2, 3)\n",
        "print(torch.permute(t18, (2, 0, 1)).size())  # >>> torch.Size([5, 2, 3])\n",
        "\n",
        "# 크기 (2, 3)인 텐서 생성\n",
        "t19 = torch.tensor([[1, 2, 3], [4, 5, 6]])\n",
        "\n",
        "# 차원을 그대로 유지 (결과는 동일)\n",
        "t20 = torch.permute(t19, dims=(0, 1))  # 결과는 (2, 3)\n",
        "\n",
        "# 차원을 전치하여 (3, 2)로 변경\n",
        "t21 = torch.permute(t19, dims=(1, 0))\n",
        "print(t20)  # >>> tensor([[1, 2, 3], [4, 5, 6]])\n",
        "print(t21)  # >>> tensor([[1, 4], [2, 5], [3, 6]])\n",
        "\n",
        "# transpose()로 텐서의 차원을 전치, 결과는 (3, 2)\n",
        "t22 = torch.transpose(t19, 0, 1)\n",
        "print(t22)  # >>> tensor([[1, 4], [2, 5], [3, 6]])\n",
        "\n",
        "# t() 함수로 2차원 텐서 전치, 결과는 (3, 2)\n",
        "t23 = torch.t(t19)\n",
        "print(t23)  # >>> tensor([[1, 4], [2, 5], [3, 6]])"
      ],
      "id": "ba1047804ed0810d",
      "outputs": [
        {
          "name": "stdout",
          "output_type": "stream",
          "text": [
            "torch.Size([2, 3, 5])\n",
            "torch.Size([5, 2, 3])\n",
            "tensor([[1, 2, 3],\n",
            "        [4, 5, 6]])\n",
            "tensor([[1, 4],\n",
            "        [2, 5],\n",
            "        [3, 6]])\n",
            "tensor([[1, 4],\n",
            "        [2, 5],\n",
            "        [3, 6]])\n",
            "tensor([[1, 4],\n",
            "        [2, 5],\n",
            "        [3, 6]])\n"
          ]
        }
      ],
      "execution_count": null
    },
    {
      "metadata": {
        "id": "2c6fe4c475ad42e"
      },
      "cell_type": "markdown",
      "source": [
        "# l_tensor_concat.ipynb"
      ],
      "id": "2c6fe4c475ad42e"
    },
    {
      "metadata": {
        "ExecuteTime": {
          "end_time": "2024-09-24T11:31:04.034221Z",
          "start_time": "2024-09-24T11:31:04.002720Z"
        },
        "id": "7ef646937a2b068e",
        "outputId": "0b47fd86-8e7b-4ee8-98fb-5d8c382caa66"
      },
      "cell_type": "code",
      "source": [
        "import torch\n",
        "''' 3차원 텐서의 병합 (concat)'''\n",
        "# 세 개의 3차원 텐서를 생성, 크기가 각각 다름\n",
        "t1 = torch.zeros([2, 1, 3])  # 크기 (2, 1, 3)\n",
        "t2 = torch.zeros([2, 3, 3])  # 크기 (2, 3, 3)\n",
        "t3 = torch.zeros([2, 2, 3])  # 크기 (2, 2, 3)\n",
        "\n",
        "# 세 개의 텐서를 1번째 차원을 기준으로 병합\n",
        "t4 = torch.cat([t1, t2, t3], dim=1)\n",
        "print(t4.shape)  # >>> torch.Size([2, 6, 3])\n",
        "# t1, t2, t3가 1번째 차원을 따라 이어붙여져 크기 (2, 6, 3)이 됨\n",
        "\n",
        "print(\"#\" * 50, 1)\n"
      ],
      "id": "7ef646937a2b068e",
      "outputs": [
        {
          "name": "stdout",
          "output_type": "stream",
          "text": [
            "torch.Size([2, 6, 3])\n",
            "################################################## 1\n"
          ]
        }
      ],
      "execution_count": null
    },
    {
      "metadata": {
        "ExecuteTime": {
          "end_time": "2024-09-24T11:31:04.784854Z",
          "start_time": "2024-09-24T11:31:04.769234Z"
        },
        "id": "f4d4d33f55a9824b",
        "outputId": "93e40a9b-a6e0-4ee7-bde7-a6574a0b0762"
      },
      "cell_type": "code",
      "source": [
        "'''1차원 텐서의 병합'''\n",
        "# 두 개의 1차원 텐서 생성\n",
        "t5 = torch.arange(0, 3)  # tensor([0, 1, 2])\n",
        "t6 = torch.arange(3, 8)  # tensor([3, 4, 5, 6, 7])\n",
        "\n",
        "# 두 개의 1차원 텐서를 dim=0에서 병합, 즉 이어붙임\n",
        "t7 = torch.cat((t5, t6), dim=0)\n",
        "print(t7.shape)  # >>> torch.Size([8])\n",
        "print(t7)  # >>> tensor([0, 1, 2, 3, 4, 5, 6, 7])\n",
        "\n",
        "print(\"#\" * 50, 2)\n"
      ],
      "id": "f4d4d33f55a9824b",
      "outputs": [
        {
          "name": "stdout",
          "output_type": "stream",
          "text": [
            "torch.Size([8])\n",
            "tensor([0, 1, 2, 3, 4, 5, 6, 7])\n",
            "################################################## 2\n"
          ]
        }
      ],
      "execution_count": null
    },
    {
      "metadata": {
        "ExecuteTime": {
          "end_time": "2024-09-24T11:31:05.463384Z",
          "start_time": "2024-09-24T11:31:05.437747Z"
        },
        "id": "f06b5fabfefdfd21",
        "outputId": "ff1891ad-06cd-4319-eee5-a340b8bf6a6c"
      },
      "cell_type": "code",
      "source": [
        "'''2차원 텐서의 병합'''\n",
        "# 두 개의 2차원 텐서 생성\n",
        "t8 = torch.arange(0, 6).reshape(2, 3)  # 크기 (2, 3)\n",
        "t9 = torch.arange(6, 12).reshape(2, 3)  # 크기 (2, 3)\n",
        "\n",
        "# 첫 번째 차원(dim=0)에서 병합, 행 방향으로 이어붙임\n",
        "t10 = torch.cat((t8, t9), dim=0)\n",
        "print(t10.size())  # >>> torch.Size([4, 3])\n",
        "print(t10)\n",
        "# >>> tensor([[ 0,  1,  2],\n",
        "#             [ 3,  4,  5],\n",
        "#             [ 6,  7,  8],\n",
        "#             [ 9, 10, 11]])\n",
        "\n",
        "# 두 번째 차원(dim=1)에서 병합, 열 방향으로 이어붙임\n",
        "t11 = torch.cat((t8, t9), dim=1)\n",
        "print(t11.size())  # >>> torch.Size([2, 6])\n",
        "print(t11)\n",
        "# >>> tensor([[ 0,  1,  2,  6,  7,  8],\n",
        "#             [ 3,  4,  5,  9, 10, 11]])\n",
        "\n",
        "print(\"#\" * 50, 3)\n",
        "\n"
      ],
      "id": "f06b5fabfefdfd21",
      "outputs": [
        {
          "name": "stdout",
          "output_type": "stream",
          "text": [
            "torch.Size([4, 3])\n",
            "tensor([[ 0,  1,  2],\n",
            "        [ 3,  4,  5],\n",
            "        [ 6,  7,  8],\n",
            "        [ 9, 10, 11]])\n",
            "torch.Size([2, 6])\n",
            "tensor([[ 0,  1,  2,  6,  7,  8],\n",
            "        [ 3,  4,  5,  9, 10, 11]])\n",
            "################################################## 3\n"
          ]
        }
      ],
      "execution_count": null
    },
    {
      "metadata": {
        "ExecuteTime": {
          "end_time": "2024-09-24T11:31:06.082709Z",
          "start_time": "2024-09-24T11:31:06.062381Z"
        },
        "id": "29e65ae1cfe8dafc",
        "outputId": "99b1d007-963c-4f9a-8b5d-37fa3a6dbf13"
      },
      "cell_type": "code",
      "source": [
        "'''다수의 2차원 텐서 병합'''\n",
        "# 세 개의 2차원 텐서 생성\n",
        "t12 = torch.arange(0, 6).reshape(2, 3)  # 크기 (2, 3)\n",
        "t13 = torch.arange(6, 12).reshape(2, 3)  # 크기 (2, 3)\n",
        "t14 = torch.arange(12, 18).reshape(2, 3)  # 크기 (2, 3)\n",
        "\n",
        "# 첫 번째 차원(dim=0)에서 세 개의 텐서를 병합\n",
        "t15 = torch.cat((t12, t13, t14), dim=0)\n",
        "print(t15.size())  # >>> torch.Size([6, 3])\n",
        "print(t15)\n",
        "# >>> tensor([[ 0,  1,  2],\n",
        "#             [ 3,  4,  5],\n",
        "#             [ 6,  7,  8],\n",
        "#             [ 9, 10, 11],\n",
        "#             [12, 13, 14],\n",
        "#             [15, 16, 17]])\n",
        "\n",
        "# 두 번째 차원(dim=1)에서 세 개의 텐서를 병합\n",
        "t16 = torch.cat((t12, t13, t14), dim=1)\n",
        "print(t16.size())  # >>> torch.Size([2, 9])\n",
        "print(t16)\n",
        "# >>> tensor([[ 0,  1,  2,  6,  7,  8, 12, 13, 14],\n",
        "#             [ 3,  4,  5,  9, 10, 11, 15, 16, 17]])\n",
        "\n",
        "print(\"#\" * 50, 4)\n"
      ],
      "id": "29e65ae1cfe8dafc",
      "outputs": [
        {
          "name": "stdout",
          "output_type": "stream",
          "text": [
            "torch.Size([6, 3])\n",
            "tensor([[ 0,  1,  2],\n",
            "        [ 3,  4,  5],\n",
            "        [ 6,  7,  8],\n",
            "        [ 9, 10, 11],\n",
            "        [12, 13, 14],\n",
            "        [15, 16, 17]])\n",
            "torch.Size([2, 9])\n",
            "tensor([[ 0,  1,  2,  6,  7,  8, 12, 13, 14],\n",
            "        [ 3,  4,  5,  9, 10, 11, 15, 16, 17]])\n",
            "################################################## 4\n"
          ]
        }
      ],
      "execution_count": null
    },
    {
      "metadata": {
        "ExecuteTime": {
          "end_time": "2024-09-24T11:31:06.712720Z",
          "start_time": "2024-09-24T11:31:06.692514Z"
        },
        "id": "b42ef1db606fdf60",
        "outputId": "220ec170-2494-4e74-a741-85f192ccdbd0"
      },
      "cell_type": "code",
      "source": [
        "'''3차원 텐서의 병합'''\n",
        "# 두 개의 3차원 텐서 생성\n",
        "t17 = torch.arange(0, 6).reshape(1, 2, 3)  # 크기 (1, 2, 3)\n",
        "t18 = torch.arange(6, 12).reshape(1, 2, 3)  # 크기 (1, 2, 3)\n",
        "\n",
        "# 첫 번째 차원(dim=0)에서 병합, 결과는 (2, 2, 3)\n",
        "t19 = torch.cat((t17, t18), dim=0)\n",
        "print(t19.size())  # >>> torch.Size([2, 2, 3])\n",
        "print(t19)\n",
        "# >>> tensor([[[ 0,  1,  2],\n",
        "#              [ 3,  4,  5]],\n",
        "#             [[ 6,  7,  8],\n",
        "#              [ 9, 10, 11]]])\n",
        "\n",
        "# 두 번째 차원(dim=1)에서 병합, 결과는 (1, 4, 3)\n",
        "t20 = torch.cat((t17, t18), dim=1)\n",
        "print(t20.size())  # >>> torch.Size([1, 4, 3])\n",
        "print(t20)\n",
        "# >>> tensor([[[ 0,  1,  2],\n",
        "#              [ 3,  4,  5],\n",
        "#              [ 6,  7,  8],\n",
        "#              [ 9, 10, 11]]])\n",
        "\n",
        "# 세 번째 차원(dim=2)에서 병합, 결과는 (1, 2, 6)\n",
        "t21 = torch.cat((t17, t18), dim=2)\n",
        "print(t21.size())  # >>> torch.Size([1, 2, 6])\n",
        "print(t21)\n",
        "# >>> tensor([[[ 0,  1,  2,  6,  7,  8],\n",
        "#              [ 3,  4,  5,  9, 10, 11]]])"
      ],
      "id": "b42ef1db606fdf60",
      "outputs": [
        {
          "name": "stdout",
          "output_type": "stream",
          "text": [
            "torch.Size([2, 2, 3])\n",
            "tensor([[[ 0,  1,  2],\n",
            "         [ 3,  4,  5]],\n",
            "\n",
            "        [[ 6,  7,  8],\n",
            "         [ 9, 10, 11]]])\n",
            "torch.Size([1, 4, 3])\n",
            "tensor([[[ 0,  1,  2],\n",
            "         [ 3,  4,  5],\n",
            "         [ 6,  7,  8],\n",
            "         [ 9, 10, 11]]])\n",
            "torch.Size([1, 2, 6])\n",
            "tensor([[[ 0,  1,  2,  6,  7,  8],\n",
            "         [ 3,  4,  5,  9, 10, 11]]])\n"
          ]
        }
      ],
      "execution_count": null
    },
    {
      "metadata": {
        "id": "7985a0cc8c6a3c51"
      },
      "cell_type": "markdown",
      "source": [
        "# m_tensor_stacking.ipynb"
      ],
      "id": "7985a0cc8c6a3c51"
    },
    {
      "metadata": {
        "ExecuteTime": {
          "end_time": "2024-09-24T11:31:09.231301Z",
          "start_time": "2024-09-24T11:31:09.201457Z"
        },
        "id": "26f9145c7f51d73e",
        "outputId": "45da2897-232f-4a59-cb39-098ed1d515c4"
      },
      "cell_type": "code",
      "source": [
        "import torch\n",
        "\n",
        "''' stack과 cat의 차이 '''\n",
        "# 두 개의 2차원 텐서를 생성\n",
        "t1 = torch.tensor([[1, 2, 3], [4, 5, 6]])  # 크기 (2, 3)\n",
        "t2 = torch.tensor([[7, 8, 9], [10, 11, 12]])  # 크기 (2, 3)\n",
        "\n",
        "# torch.stack: 텐서들을 새로운 차원에서 쌓음 (dim=0에서 쌓기)\n",
        "t3 = torch.stack([t1, t2], dim=0)  # 결과 크기 (2, 2, 3)\n",
        "# torch.cat: 먼저 텐서의 차원을 증가시킨 후 그 차원에서 이어붙이기\n",
        "t4 = torch.cat([t1.unsqueeze(dim=0), t2.unsqueeze(dim=0)], dim=0)\n",
        "print(t3.shape, t3.equal(t4))  # >>> torch.Size([2, 2, 3]) True\n",
        "\n",
        "# torch.stack: 두 번째 차원에서 텐서들을 쌓기\n",
        "t5 = torch.stack([t1, t2], dim=1)  # 결과 크기 (2, 2, 3)\n",
        "# torch.cat: 텐서의 두 번째 차원에 이어붙임\n",
        "t6 = torch.cat([t1.unsqueeze(dim=1), t2.unsqueeze(dim=1)], dim=1)\n",
        "print(t5.shape, t5.equal(t6))  # >>> torch.Size([2, 2, 3]) True\n",
        "\n",
        "# torch.stack: 세 번째 차원에서 텐서들을 쌓기\n",
        "t7 = torch.stack([t1, t2], dim=2)  # 결과 크기 (2, 3, 2)\n",
        "# torch.cat: 세 번째 차원에서 이어붙임\n",
        "t8 = torch.cat([t1.unsqueeze(dim=2), t2.unsqueeze(dim=2)], dim=2)\n",
        "print(t7.shape, t7.equal(t8))  # >>> torch.Size([2, 3, 2]) True\n",
        "\n",
        "print(\"#\" * 50, 1)"
      ],
      "id": "26f9145c7f51d73e",
      "outputs": [
        {
          "name": "stdout",
          "output_type": "stream",
          "text": [
            "torch.Size([2, 2, 3]) True\n",
            "torch.Size([2, 2, 3]) True\n",
            "torch.Size([2, 3, 2]) True\n",
            "################################################## 1\n"
          ]
        }
      ],
      "execution_count": null
    },
    {
      "metadata": {
        "ExecuteTime": {
          "end_time": "2024-09-24T11:31:09.887721Z",
          "start_time": "2024-09-24T11:31:09.856246Z"
        },
        "id": "2f8bd4576807c571",
        "outputId": "9778c2f3-29bd-452c-b61b-3b0689950de3"
      },
      "cell_type": "code",
      "source": [
        "'''1차원 텐서의 stack과 cat 비교'''\n",
        "# 두 개의 1차원 텐서 생성\n",
        "t9 = torch.arange(0, 3)  # tensor([0, 1, 2])\n",
        "t10 = torch.arange(3, 6)  # tensor([3, 4, 5])\n",
        "\n",
        "print(t9.size(), t10.size())  # >>> torch.Size([3]) torch.Size([3])\n",
        "\n",
        "# torch.stack: 첫 번째 차원에서 두 텐서를 쌓음\n",
        "t11 = torch.stack((t9, t10), dim=0)  # 결과 크기 (2, 3)\n",
        "print(t11.size())  # >>> torch.Size([2, 3])\n",
        "print(t11)\n",
        "# >>> tensor([[0, 1, 2],\n",
        "#             [3, 4, 5]])\n",
        "\n",
        "# torch.cat: 각 텐서를 2차원으로 변환한 후 이어붙임\n",
        "t12 = torch.cat((t9.unsqueeze(0), t10.unsqueeze(0)), dim=0)\n",
        "print(t11.equal(t12))  # >>> True\n",
        "\n",
        "# torch.stack: 두 번째 차원에서 두 텐서를 쌓음\n",
        "t13 = torch.stack((t9, t10), dim=1)  # 결과 크기 (3, 2)\n",
        "print(t13.size())  # >>> torch.Size([3, 2])\n",
        "print(t13)\n",
        "# >>> tensor([[0, 3],\n",
        "#             [1, 4],\n",
        "#             [2, 5]])\n",
        "\n",
        "# torch.cat: 각 텐서를 2차원으로 변환한 후 두 번째 차원에서 이어붙임\n",
        "t14 = torch.cat((t9.unsqueeze(1), t10.unsqueeze(1)), dim=1)\n",
        "print(t13.equal(t14))  # >>> True\n"
      ],
      "id": "2f8bd4576807c571",
      "outputs": [
        {
          "name": "stdout",
          "output_type": "stream",
          "text": [
            "torch.Size([3]) torch.Size([3])\n",
            "torch.Size([2, 3])\n",
            "tensor([[0, 1, 2],\n",
            "        [3, 4, 5]])\n",
            "True\n",
            "torch.Size([3, 2])\n",
            "tensor([[0, 3],\n",
            "        [1, 4],\n",
            "        [2, 5]])\n",
            "True\n"
          ]
        }
      ],
      "execution_count": null
    },
    {
      "metadata": {
        "id": "708c61467b96e6e6"
      },
      "cell_type": "markdown",
      "source": [
        "# n_tensor_vstack_hstack.ipynb"
      ],
      "id": "708c61467b96e6e6"
    },
    {
      "metadata": {
        "ExecuteTime": {
          "end_time": "2024-09-24T11:31:12.458807Z",
          "start_time": "2024-09-24T11:31:12.427302Z"
        },
        "id": "22a7d9998dd42290",
        "outputId": "87224750-ef40-483f-ad58-ca06585933ed"
      },
      "cell_type": "code",
      "source": [
        "import torch\n",
        "\n",
        "'''1차원 텐서의 수직 결합 (vstack)'''\n",
        "# 두 개의 1차원 텐서 생성\n",
        "t1 = torch.tensor([1, 2, 3])  # 크기 (3,)\n",
        "t2 = torch.tensor([4, 5, 6])  # 크기 (3,)\n",
        "\n",
        "# torch.vstack: 두 개의 1차원 텐서를 수직으로 쌓아 2차원 텐서로 변환\n",
        "t3 = torch.vstack((t1, t2))\n",
        "print(t3)\n",
        "# >>> tensor([[1, 2, 3],\n",
        "#             [4, 5, 6]])\n",
        "# 결과는 (2, 3) 크기의 2차원 텐서\n",
        "\n",
        "# 두 개의 2차원 텐서 생성 (각 텐서가 하나의 열을 가짐)\n",
        "t4 = torch.tensor([[1], [2], [3]])  # 크기 (3, 1)\n",
        "t5 = torch.tensor([[4], [5], [6]])  # 크기 (3, 1)\n",
        "\n",
        "# torch.vstack: 두 개의 2차원 텐서를 수직으로 결합\n",
        "t6 = torch.vstack((t4, t5))\n",
        "print(t6)\n",
        "# >>> tensor([[1],\n",
        "#             [2],\n",
        "#             [3],\n",
        "#             [4],\n",
        "#             [5],\n",
        "#             [6]])\n",
        "# 결과는 (6, 1) 크기의 2차원 텐서"
      ],
      "id": "22a7d9998dd42290",
      "outputs": [
        {
          "name": "stdout",
          "output_type": "stream",
          "text": [
            "tensor([[1, 2, 3],\n",
            "        [4, 5, 6]])\n",
            "tensor([[1],\n",
            "        [2],\n",
            "        [3],\n",
            "        [4],\n",
            "        [5],\n",
            "        [6]])\n"
          ]
        }
      ],
      "execution_count": null
    },
    {
      "metadata": {
        "ExecuteTime": {
          "end_time": "2024-09-24T11:31:13.157570Z",
          "start_time": "2024-09-24T11:31:13.143134Z"
        },
        "id": "94d1c1126e13f38b",
        "outputId": "f7be38f9-851b-496d-8310-7d088ac2d374"
      },
      "cell_type": "code",
      "source": [
        "'''3차원 텐서의 수직 결합 (vstack)'''\n",
        "# 크기 (2, 2, 3)의 3차원 텐서 생성\n",
        "t7 = torch.tensor([\n",
        "  [[1, 2, 3], [4, 5, 6]],\n",
        "  [[7, 8, 9], [10, 11, 12]]\n",
        "])\n",
        "print(t7.shape)\n",
        "# >>> torch.Size([2, 2, 3])\n",
        "\n",
        "# 또 다른 크기 (2, 2, 3)의 3차원 텐서 생성\n",
        "t8 = torch.tensor([\n",
        "  [[13, 14, 15], [16, 17, 18]],\n",
        "  [[19, 20, 21], [22, 23, 24]]\n",
        "])\n",
        "print(t8.shape)\n",
        "# >>> torch.Size([2, 2, 3])\n",
        "\n",
        "# torch.vstack: 두 개의 3차원 텐서를 첫 번째 차원에서 수직으로 결합\n",
        "t9 = torch.vstack([t7, t8])\n",
        "print(t9.shape)\n",
        "# >>> torch.Size([4, 2, 3])\n",
        "print(t9)\n",
        "# >>> tensor([[[ 1,  2,  3],\n",
        "#              [ 4,  5,  6]],\n",
        "#             [[ 7,  8,  9],\n",
        "#              [10, 11, 12]],\n",
        "#             [[13, 14, 15],\n",
        "#              [16, 17, 18]],\n",
        "#             [[19, 20, 21],\n",
        "#              [22, 23, 24]]])\n",
        "# 결과는 (4, 2, 3) 크기의 3차원 텐서\n",
        "\n",
        "print(\"#\" * 50, 1)"
      ],
      "id": "94d1c1126e13f38b",
      "outputs": [
        {
          "name": "stdout",
          "output_type": "stream",
          "text": [
            "torch.Size([2, 2, 3])\n",
            "torch.Size([2, 2, 3])\n",
            "torch.Size([4, 2, 3])\n",
            "tensor([[[ 1,  2,  3],\n",
            "         [ 4,  5,  6]],\n",
            "\n",
            "        [[ 7,  8,  9],\n",
            "         [10, 11, 12]],\n",
            "\n",
            "        [[13, 14, 15],\n",
            "         [16, 17, 18]],\n",
            "\n",
            "        [[19, 20, 21],\n",
            "         [22, 23, 24]]])\n",
            "################################################## 1\n"
          ]
        }
      ],
      "execution_count": null
    },
    {
      "metadata": {
        "ExecuteTime": {
          "end_time": "2024-09-24T11:31:13.884832Z",
          "start_time": "2024-09-24T11:31:13.863721Z"
        },
        "id": "a4b5958f370e89f6",
        "outputId": "45f848dd-3404-46be-db5a-2d9ba2b0efca"
      },
      "cell_type": "code",
      "source": [
        "'''1차원 텐서의 수평 결합 (hstack)'''\n",
        "# 두 개의 1차원 텐서 생성\n",
        "t10 = torch.tensor([1, 2, 3])  # 크기 (3,)\n",
        "t11 = torch.tensor([4, 5, 6])  # 크기 (3,)\n",
        "\n",
        "# torch.hstack: 두 개의 1차원 텐서를 수평으로 결합하여 1차원으로 이어 붙임\n",
        "t12 = torch.hstack((t10, t11))\n",
        "print(t12)\n",
        "# >>> tensor([1, 2, 3, 4, 5, 6])\n",
        "# 결과는 (6,) 크기의 1차원 텐서\n",
        "\n",
        "# 두 개의 2차원 텐서 생성 (각 텐서가 하나의 열을 가짐)\n",
        "t13 = torch.tensor([[1], [2], [3]])  # 크기 (3, 1)\n",
        "t14 = torch.tensor([[4], [5], [6]])  # 크기 (3, 1)\n",
        "\n",
        "# torch.hstack: 두 개의 2차원 텐서를 수평으로 결합\n",
        "t15 = torch.hstack((t13, t14))\n",
        "print(t15)\n",
        "# >>> tensor([[1, 4],\n",
        "#             [2, 5],\n",
        "#             [3, 6]])\n",
        "# 결과는 (3, 2) 크기의 2차원 텐서"
      ],
      "id": "a4b5958f370e89f6",
      "outputs": [
        {
          "name": "stdout",
          "output_type": "stream",
          "text": [
            "tensor([1, 2, 3, 4, 5, 6])\n",
            "tensor([[1, 4],\n",
            "        [2, 5],\n",
            "        [3, 6]])\n"
          ]
        }
      ],
      "execution_count": null
    },
    {
      "metadata": {
        "ExecuteTime": {
          "end_time": "2024-09-24T11:31:14.631023Z",
          "start_time": "2024-09-24T11:31:14.615234Z"
        },
        "id": "d1871d59f5c6481f",
        "outputId": "1b08f888-04bf-4108-a083-4ce295f08166"
      },
      "cell_type": "code",
      "source": [
        "'''3차원 텐서의 수평 결합 (hstack)'''\n",
        "# 크기 (2, 2, 3)의 3차원 텐서 생성\n",
        "t16 = torch.tensor([\n",
        "  [[1, 2, 3], [4, 5, 6]],\n",
        "  [[7, 8, 9], [10, 11, 12]]\n",
        "])\n",
        "print(t16.shape)\n",
        "# >>> torch.Size([2, 2, 3])\n",
        "\n",
        "# 또 다른 크기 (2, 2, 3)의 3차원 텐서 생성\n",
        "t17 = torch.tensor([\n",
        "  [[13, 14, 15], [16, 17, 18]],\n",
        "  [[19, 20, 21], [22, 23, 24]]\n",
        "])\n",
        "print(t17.shape)\n",
        "# >>> torch.Size([2, 2, 3])\n",
        "\n",
        "# torch.hstack: 두 개의 3차원 텐서를 두 번째 차원에서 수평으로 결합\n",
        "t18 = torch.hstack([t16, t17])\n",
        "print(t18.shape)\n",
        "# >>> torch.Size([2, 4, 3])\n",
        "print(t18)\n",
        "# >>> tensor([[[ 1,  2,  3],\n",
        "#              [ 4,  5,  6],\n",
        "#              [13, 14, 15],\n",
        "#              [16, 17, 18]],\n",
        "#             [[ 7,  8,  9],\n",
        "#              [10, 11, 12],\n",
        "#              [19, 20, 21],\n",
        "#              [22, 23, 24]]])\n",
        "# 결과는 (2, 4, 3) 크기의 3차원 텐서"
      ],
      "id": "d1871d59f5c6481f",
      "outputs": [
        {
          "name": "stdout",
          "output_type": "stream",
          "text": [
            "torch.Size([2, 2, 3])\n",
            "torch.Size([2, 2, 3])\n",
            "torch.Size([2, 4, 3])\n",
            "tensor([[[ 1,  2,  3],\n",
            "         [ 4,  5,  6],\n",
            "         [13, 14, 15],\n",
            "         [16, 17, 18]],\n",
            "\n",
            "        [[ 7,  8,  9],\n",
            "         [10, 11, 12],\n",
            "         [19, 20, 21],\n",
            "         [22, 23, 24]]])\n"
          ]
        }
      ],
      "execution_count": null
    },
    {
      "metadata": {
        "id": "86c4fffcead7309"
      },
      "cell_type": "code",
      "outputs": [],
      "execution_count": null,
      "source": [],
      "id": "86c4fffcead7309"
    },
    {
      "cell_type": "markdown",
      "source": [
        "## 후기 및 인상 깊었던 부분\n",
        "  이번 숙제를 하면서 처음으로 tensor를 써봤습니다. 대부분은 파이썬의 numpy와 비슷한 기능을 가지고 있어서 쉽게 익힐 수 있었는데 텐서를 생성하는 메소드가 여러개 있고, 이들의 특성이 각각 다르다는 점이 다른 자료형들(대표적으로 numpy, list)과 달라 신기했습니다.\n",
        "\n",
        "**tensor를 torch.Tensor로 생성 시 요소의 default type이 float32입니다. torch.tenosr로 지정 시 처음 tensor에 입력된 값에 맞게 자료형이 지정됩니다. torch.as_tensor은 주어진 입력을 텐서로 변환합니다.**\n",
        "\n",
        "이렇게 생성된 tensor는 list를 기반으로 생성했더라도 기반이 된 list와 메모리를 공유하지 않습니다. 이는 자료형이 ndarray여도 동일한데, 예외적으로 **as_tensor만 numpy를 텐서로 변환했을 경우 기반이 되는 ndarray와 메모리를 공유합니다.** 다른 리스트(또는 ndarray)을 복사하여 tensor화 하는데 기본적으로 pass by value로 진행된다는 점이 파이썬에서는 자주 찾아볼 수 없는 부분이라 신기했습니다."
      ],
      "metadata": {
        "id": "jkefhwAIF_PF"
      },
      "id": "jkefhwAIF_PF"
    }
  ],
  "metadata": {
    "kernelspec": {
      "display_name": "Python 3",
      "language": "python",
      "name": "python3"
    },
    "language_info": {
      "codemirror_mode": {
        "name": "ipython",
        "version": 2
      },
      "file_extension": ".py",
      "mimetype": "text/x-python",
      "name": "python",
      "nbconvert_exporter": "python",
      "pygments_lexer": "ipython2",
      "version": "2.7.6"
    },
    "colab": {
      "provenance": []
    }
  },
  "nbformat": 4,
  "nbformat_minor": 5
}